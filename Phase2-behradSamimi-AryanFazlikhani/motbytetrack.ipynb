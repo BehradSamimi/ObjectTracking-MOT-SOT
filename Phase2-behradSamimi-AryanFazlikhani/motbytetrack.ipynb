{
 "cells": [
  {
   "cell_type": "code",
   "execution_count": null,
   "metadata": {},
   "outputs": [],
   "source": [
    "!pip install --upgrade --no-cache-dir --force-reinstall numpy==1.23.5 --only-binary=:all:"
   ]
  },
  {
   "cell_type": "code",
   "execution_count": 1,
   "metadata": {
    "execution": {
     "iopub.execute_input": "2025-02-04T16:07:01.561768Z",
     "iopub.status.busy": "2025-02-04T16:07:01.561493Z",
     "iopub.status.idle": "2025-02-04T16:07:31.948669Z",
     "shell.execute_reply": "2025-02-04T16:07:31.947837Z",
     "shell.execute_reply.started": "2025-02-04T16:07:01.561745Z"
    }
   },
   "outputs": [
    {
     "name": "stdout",
     "output_type": "stream",
     "text": [
      "Collecting loguru\n",
      "  Downloading loguru-0.7.3-py3-none-any.whl.metadata (22 kB)\n",
      "Requirement already satisfied: cython in /usr/local/lib/python3.10/dist-packages (3.0.11)\n",
      "Collecting lap\n",
      "  Downloading lap-0.5.12-cp310-cp310-manylinux_2_5_x86_64.manylinux1_x86_64.manylinux_2_17_x86_64.manylinux2014_x86_64.whl.metadata (6.2 kB)\n",
      "Collecting onnxruntime\n",
      "  Downloading onnxruntime-1.20.1-cp310-cp310-manylinux_2_27_x86_64.manylinux_2_28_x86_64.whl.metadata (4.5 kB)\n",
      "Requirement already satisfied: numpy in /usr/local/lib/python3.10/dist-packages (1.23.5)\n",
      "Requirement already satisfied: scipy in /usr/local/lib/python3.10/dist-packages (1.13.1)\n",
      "Requirement already satisfied: opencv-python in /usr/local/lib/python3.10/dist-packages (4.10.0.84)\n",
      "Collecting cython_bbox\n",
      "  Downloading cython_bbox-0.1.5.tar.gz (4.4 kB)\n",
      "  Preparing metadata (setup.py) ... \u001b[?25l\u001b[?25hdone\n",
      "Collecting coloredlogs (from onnxruntime)\n",
      "  Downloading coloredlogs-15.0.1-py2.py3-none-any.whl.metadata (12 kB)\n",
      "Requirement already satisfied: flatbuffers in /usr/local/lib/python3.10/dist-packages (from onnxruntime) (24.3.25)\n",
      "Requirement already satisfied: packaging in /usr/local/lib/python3.10/dist-packages (from onnxruntime) (24.2)\n",
      "Requirement already satisfied: protobuf in /usr/local/lib/python3.10/dist-packages (from onnxruntime) (3.20.3)\n",
      "Requirement already satisfied: sympy in /usr/local/lib/python3.10/dist-packages (from onnxruntime) (1.13.1)\n",
      "Collecting humanfriendly>=9.1 (from coloredlogs->onnxruntime)\n",
      "  Downloading humanfriendly-10.0-py2.py3-none-any.whl.metadata (9.2 kB)\n",
      "Requirement already satisfied: mpmath<1.4,>=1.1.0 in /usr/local/lib/python3.10/dist-packages (from sympy->onnxruntime) (1.3.0)\n",
      "Downloading loguru-0.7.3-py3-none-any.whl (61 kB)\n",
      "\u001b[2K   \u001b[90m━━━━━━━━━━━━━━━━━━━━━━━━━━━━━━━━━━━━━━━━\u001b[0m \u001b[32m61.6/61.6 kB\u001b[0m \u001b[31m3.4 MB/s\u001b[0m eta \u001b[36m0:00:00\u001b[0m\n",
      "\u001b[?25hDownloading lap-0.5.12-cp310-cp310-manylinux_2_5_x86_64.manylinux1_x86_64.manylinux_2_17_x86_64.manylinux2014_x86_64.whl (1.7 MB)\n",
      "\u001b[2K   \u001b[90m━━━━━━━━━━━━━━━━━━━━━━━━━━━━━━━━━━━━━━━━\u001b[0m \u001b[32m1.7/1.7 MB\u001b[0m \u001b[31m42.9 MB/s\u001b[0m eta \u001b[36m0:00:00\u001b[0m00:01\u001b[0m\n",
      "\u001b[?25hDownloading onnxruntime-1.20.1-cp310-cp310-manylinux_2_27_x86_64.manylinux_2_28_x86_64.whl (13.3 MB)\n",
      "\u001b[2K   \u001b[90m━━━━━━━━━━━━━━━━━━━━━━━━━━━━━━━━━━━━━━━━\u001b[0m \u001b[32m13.3/13.3 MB\u001b[0m \u001b[31m98.5 MB/s\u001b[0m eta \u001b[36m0:00:00\u001b[0m:00:01\u001b[0m00:01\u001b[0m\n",
      "\u001b[?25hDownloading coloredlogs-15.0.1-py2.py3-none-any.whl (46 kB)\n",
      "\u001b[2K   \u001b[90m━━━━━━━━━━━━━━━━━━━━━━━━━━━━━━━━━━━━━━━━\u001b[0m \u001b[32m46.0/46.0 kB\u001b[0m \u001b[31m2.8 MB/s\u001b[0m eta \u001b[36m0:00:00\u001b[0m\n",
      "\u001b[?25hDownloading humanfriendly-10.0-py2.py3-none-any.whl (86 kB)\n",
      "\u001b[2K   \u001b[90m━━━━━━━━━━━━━━━━━━━━━━━━━━━━━━━━━━━━━━━━\u001b[0m \u001b[32m86.8/86.8 kB\u001b[0m \u001b[31m5.8 MB/s\u001b[0m eta \u001b[36m0:00:00\u001b[0m\n",
      "\u001b[?25hBuilding wheels for collected packages: cython_bbox\n",
      "  Building wheel for cython_bbox (setup.py) ... \u001b[?25l\u001b[?25hdone\n",
      "  Created wheel for cython_bbox: filename=cython_bbox-0.1.5-cp310-cp310-linux_x86_64.whl size=99090 sha256=a8f101f53e4533aa8fb197bcfad723feb040dc79568ad889bfffc77f7e7c9bc8\n",
      "  Stored in directory: /root/.cache/pip/wheels/c0/b7/68/bab98b7180cda501101a57fb7d36884218ad45ec60c27cd679\n",
      "Successfully built cython_bbox\n",
      "Installing collected packages: loguru, lap, humanfriendly, cython_bbox, coloredlogs, onnxruntime\n",
      "Successfully installed coloredlogs-15.0.1 cython_bbox-0.1.5 humanfriendly-10.0 lap-0.5.12 loguru-0.7.3 onnxruntime-1.20.1\n",
      "Collecting motmetrics\n",
      "  Downloading motmetrics-1.4.0-py3-none-any.whl.metadata (20 kB)\n",
      "Requirement already satisfied: numpy>=1.12.1 in /usr/local/lib/python3.10/dist-packages (from motmetrics) (1.23.5)\n",
      "Requirement already satisfied: pandas>=0.23.1 in /usr/local/lib/python3.10/dist-packages (from motmetrics) (2.2.2)\n",
      "Requirement already satisfied: scipy>=0.19.0 in /usr/local/lib/python3.10/dist-packages (from motmetrics) (1.13.1)\n",
      "Collecting xmltodict>=0.12.0 (from motmetrics)\n",
      "  Downloading xmltodict-0.14.2-py2.py3-none-any.whl.metadata (8.0 kB)\n",
      "Requirement already satisfied: python-dateutil>=2.8.2 in /usr/local/lib/python3.10/dist-packages (from pandas>=0.23.1->motmetrics) (2.8.2)\n",
      "Requirement already satisfied: pytz>=2020.1 in /usr/local/lib/python3.10/dist-packages (from pandas>=0.23.1->motmetrics) (2024.2)\n",
      "Requirement already satisfied: tzdata>=2022.7 in /usr/local/lib/python3.10/dist-packages (from pandas>=0.23.1->motmetrics) (2024.2)\n",
      "Requirement already satisfied: six>=1.5 in /usr/local/lib/python3.10/dist-packages (from python-dateutil>=2.8.2->pandas>=0.23.1->motmetrics) (1.17.0)\n",
      "Downloading motmetrics-1.4.0-py3-none-any.whl (161 kB)\n",
      "\u001b[2K   \u001b[90m━━━━━━━━━━━━━━━━━━━━━━━━━━━━━━━━━━━━━━━━\u001b[0m \u001b[32m161.5/161.5 kB\u001b[0m \u001b[31m6.2 MB/s\u001b[0m eta \u001b[36m0:00:00\u001b[0m\n",
      "\u001b[?25hDownloading xmltodict-0.14.2-py2.py3-none-any.whl (10.0 kB)\n",
      "Installing collected packages: xmltodict, motmetrics\n",
      "Successfully installed motmetrics-1.4.0 xmltodict-0.14.2\n",
      "Collecting deep_sort_realtime\n",
      "  Downloading deep_sort_realtime-1.3.2-py3-none-any.whl.metadata (12 kB)\n",
      "Requirement already satisfied: numpy in /usr/local/lib/python3.10/dist-packages (from deep_sort_realtime) (1.23.5)\n",
      "Requirement already satisfied: scipy in /usr/local/lib/python3.10/dist-packages (from deep_sort_realtime) (1.13.1)\n",
      "Requirement already satisfied: opencv-python in /usr/local/lib/python3.10/dist-packages (from deep_sort_realtime) (4.10.0.84)\n",
      "Downloading deep_sort_realtime-1.3.2-py3-none-any.whl (8.4 MB)\n",
      "\u001b[2K   \u001b[90m━━━━━━━━━━━━━━━━━━━━━━━━━━━━━━━━━━━━━━━━\u001b[0m \u001b[32m8.4/8.4 MB\u001b[0m \u001b[31m73.7 MB/s\u001b[0m eta \u001b[36m0:00:00\u001b[0m:00:01\u001b[0m00:01\u001b[0m\n",
      "\u001b[?25hInstalling collected packages: deep_sort_realtime\n",
      "Successfully installed deep_sort_realtime-1.3.2\n",
      "Requirement already satisfied: opencv-python-headless in /usr/local/lib/python3.10/dist-packages (4.10.0.84)\n",
      "Requirement already satisfied: numpy>=1.21.2 in /usr/local/lib/python3.10/dist-packages (from opencv-python-headless) (1.23.5)\n",
      "Collecting ultralytics\n",
      "  Downloading ultralytics-8.3.70-py3-none-any.whl.metadata (35 kB)\n",
      "Requirement already satisfied: numpy<=2.1.1,>=1.23.0 in /usr/local/lib/python3.10/dist-packages (from ultralytics) (1.23.5)\n",
      "Requirement already satisfied: matplotlib>=3.3.0 in /usr/local/lib/python3.10/dist-packages (from ultralytics) (3.7.5)\n",
      "Requirement already satisfied: opencv-python>=4.6.0 in /usr/local/lib/python3.10/dist-packages (from ultralytics) (4.10.0.84)\n",
      "Requirement already satisfied: pillow>=7.1.2 in /usr/local/lib/python3.10/dist-packages (from ultralytics) (11.0.0)\n",
      "Requirement already satisfied: pyyaml>=5.3.1 in /usr/local/lib/python3.10/dist-packages (from ultralytics) (6.0.2)\n",
      "Requirement already satisfied: requests>=2.23.0 in /usr/local/lib/python3.10/dist-packages (from ultralytics) (2.32.3)\n",
      "Requirement already satisfied: scipy>=1.4.1 in /usr/local/lib/python3.10/dist-packages (from ultralytics) (1.13.1)\n",
      "Requirement already satisfied: torch>=1.8.0 in /usr/local/lib/python3.10/dist-packages (from ultralytics) (2.5.1+cu121)\n",
      "Requirement already satisfied: torchvision>=0.9.0 in /usr/local/lib/python3.10/dist-packages (from ultralytics) (0.20.1+cu121)\n",
      "Requirement already satisfied: tqdm>=4.64.0 in /usr/local/lib/python3.10/dist-packages (from ultralytics) (4.67.1)\n",
      "Requirement already satisfied: psutil in /usr/local/lib/python3.10/dist-packages (from ultralytics) (5.9.5)\n",
      "Requirement already satisfied: py-cpuinfo in /usr/local/lib/python3.10/dist-packages (from ultralytics) (9.0.0)\n",
      "Requirement already satisfied: pandas>=1.1.4 in /usr/local/lib/python3.10/dist-packages (from ultralytics) (2.2.2)\n",
      "Requirement already satisfied: seaborn>=0.11.0 in /usr/local/lib/python3.10/dist-packages (from ultralytics) (0.12.2)\n",
      "Collecting ultralytics-thop>=2.0.0 (from ultralytics)\n",
      "  Downloading ultralytics_thop-2.0.14-py3-none-any.whl.metadata (9.4 kB)\n",
      "Requirement already satisfied: contourpy>=1.0.1 in /usr/local/lib/python3.10/dist-packages (from matplotlib>=3.3.0->ultralytics) (1.3.1)\n",
      "Requirement already satisfied: cycler>=0.10 in /usr/local/lib/python3.10/dist-packages (from matplotlib>=3.3.0->ultralytics) (0.12.1)\n",
      "Requirement already satisfied: fonttools>=4.22.0 in /usr/local/lib/python3.10/dist-packages (from matplotlib>=3.3.0->ultralytics) (4.55.3)\n",
      "Requirement already satisfied: kiwisolver>=1.0.1 in /usr/local/lib/python3.10/dist-packages (from matplotlib>=3.3.0->ultralytics) (1.4.7)\n",
      "Requirement already satisfied: packaging>=20.0 in /usr/local/lib/python3.10/dist-packages (from matplotlib>=3.3.0->ultralytics) (24.2)\n",
      "Requirement already satisfied: pyparsing>=2.3.1 in /usr/local/lib/python3.10/dist-packages (from matplotlib>=3.3.0->ultralytics) (3.2.0)\n",
      "Requirement already satisfied: python-dateutil>=2.7 in /usr/local/lib/python3.10/dist-packages (from matplotlib>=3.3.0->ultralytics) (2.8.2)\n",
      "Requirement already satisfied: pytz>=2020.1 in /usr/local/lib/python3.10/dist-packages (from pandas>=1.1.4->ultralytics) (2024.2)\n",
      "Requirement already satisfied: tzdata>=2022.7 in /usr/local/lib/python3.10/dist-packages (from pandas>=1.1.4->ultralytics) (2024.2)\n",
      "Requirement already satisfied: charset-normalizer<4,>=2 in /usr/local/lib/python3.10/dist-packages (from requests>=2.23.0->ultralytics) (3.4.0)\n",
      "Requirement already satisfied: idna<4,>=2.5 in /usr/local/lib/python3.10/dist-packages (from requests>=2.23.0->ultralytics) (3.10)\n",
      "Requirement already satisfied: urllib3<3,>=1.21.1 in /usr/local/lib/python3.10/dist-packages (from requests>=2.23.0->ultralytics) (2.2.3)\n",
      "Requirement already satisfied: certifi>=2017.4.17 in /usr/local/lib/python3.10/dist-packages (from requests>=2.23.0->ultralytics) (2024.12.14)\n",
      "Requirement already satisfied: filelock in /usr/local/lib/python3.10/dist-packages (from torch>=1.8.0->ultralytics) (3.16.1)\n",
      "Requirement already satisfied: typing-extensions>=4.8.0 in /usr/local/lib/python3.10/dist-packages (from torch>=1.8.0->ultralytics) (4.12.2)\n",
      "Requirement already satisfied: networkx in /usr/local/lib/python3.10/dist-packages (from torch>=1.8.0->ultralytics) (3.4.2)\n",
      "Requirement already satisfied: jinja2 in /usr/local/lib/python3.10/dist-packages (from torch>=1.8.0->ultralytics) (3.1.4)\n",
      "Requirement already satisfied: fsspec in /usr/local/lib/python3.10/dist-packages (from torch>=1.8.0->ultralytics) (2024.9.0)\n",
      "Requirement already satisfied: sympy==1.13.1 in /usr/local/lib/python3.10/dist-packages (from torch>=1.8.0->ultralytics) (1.13.1)\n",
      "Requirement already satisfied: mpmath<1.4,>=1.1.0 in /usr/local/lib/python3.10/dist-packages (from sympy==1.13.1->torch>=1.8.0->ultralytics) (1.3.0)\n",
      "Requirement already satisfied: six>=1.5 in /usr/local/lib/python3.10/dist-packages (from python-dateutil>=2.7->matplotlib>=3.3.0->ultralytics) (1.17.0)\n",
      "Requirement already satisfied: MarkupSafe>=2.0 in /usr/local/lib/python3.10/dist-packages (from jinja2->torch>=1.8.0->ultralytics) (3.0.2)\n",
      "Downloading ultralytics-8.3.70-py3-none-any.whl (914 kB)\n",
      "\u001b[2K   \u001b[90m━━━━━━━━━━━━━━━━━━━━━━━━━━━━━━━━━━━━━━━━\u001b[0m \u001b[32m914.9/914.9 kB\u001b[0m \u001b[31m22.2 MB/s\u001b[0m eta \u001b[36m0:00:00\u001b[0m00:01\u001b[0m\n",
      "\u001b[?25hDownloading ultralytics_thop-2.0.14-py3-none-any.whl (26 kB)\n",
      "Installing collected packages: ultralytics-thop, ultralytics\n",
      "Successfully installed ultralytics-8.3.70 ultralytics-thop-2.0.14\n",
      "Collecting filterpy\n",
      "  Downloading filterpy-1.4.5.zip (177 kB)\n",
      "\u001b[2K     \u001b[90m━━━━━━━━━━━━━━━━━━━━━━━━━━━━━━━━━━━━━━━━\u001b[0m \u001b[32m178.0/178.0 kB\u001b[0m \u001b[31m5.6 MB/s\u001b[0m eta \u001b[36m0:00:00\u001b[0m\n",
      "\u001b[?25h  Preparing metadata (setup.py) ... \u001b[?25l\u001b[?25hdone\n",
      "Requirement already satisfied: numpy in /usr/local/lib/python3.10/dist-packages (from filterpy) (1.23.5)\n",
      "Requirement already satisfied: scipy in /usr/local/lib/python3.10/dist-packages (from filterpy) (1.13.1)\n",
      "Requirement already satisfied: matplotlib in /usr/local/lib/python3.10/dist-packages (from filterpy) (3.7.5)\n",
      "Requirement already satisfied: contourpy>=1.0.1 in /usr/local/lib/python3.10/dist-packages (from matplotlib->filterpy) (1.3.1)\n",
      "Requirement already satisfied: cycler>=0.10 in /usr/local/lib/python3.10/dist-packages (from matplotlib->filterpy) (0.12.1)\n",
      "Requirement already satisfied: fonttools>=4.22.0 in /usr/local/lib/python3.10/dist-packages (from matplotlib->filterpy) (4.55.3)\n",
      "Requirement already satisfied: kiwisolver>=1.0.1 in /usr/local/lib/python3.10/dist-packages (from matplotlib->filterpy) (1.4.7)\n",
      "Requirement already satisfied: packaging>=20.0 in /usr/local/lib/python3.10/dist-packages (from matplotlib->filterpy) (24.2)\n",
      "Requirement already satisfied: pillow>=6.2.0 in /usr/local/lib/python3.10/dist-packages (from matplotlib->filterpy) (11.0.0)\n",
      "Requirement already satisfied: pyparsing>=2.3.1 in /usr/local/lib/python3.10/dist-packages (from matplotlib->filterpy) (3.2.0)\n",
      "Requirement already satisfied: python-dateutil>=2.7 in /usr/local/lib/python3.10/dist-packages (from matplotlib->filterpy) (2.8.2)\n",
      "Requirement already satisfied: six>=1.5 in /usr/local/lib/python3.10/dist-packages (from python-dateutil>=2.7->matplotlib->filterpy) (1.17.0)\n",
      "Building wheels for collected packages: filterpy\n",
      "  Building wheel for filterpy (setup.py) ... \u001b[?25l\u001b[?25hdone\n",
      "  Created wheel for filterpy: filename=filterpy-1.4.5-py3-none-any.whl size=110458 sha256=904000ecd3abe71e2a69a13b22946c40d6b7b77052c04982ef286c5da802b289\n",
      "  Stored in directory: /root/.cache/pip/wheels/0f/0c/ea/218f266af4ad626897562199fbbcba521b8497303200186102\n",
      "Successfully built filterpy\n",
      "Installing collected packages: filterpy\n",
      "Successfully installed filterpy-1.4.5\n"
     ]
    }
   ],
   "source": [
    "!pip install loguru cython lap onnxruntime numpy scipy opencv-python cython_bbox\n",
    "!pip install motmetrics\n",
    "!pip install deep_sort_realtime\n",
    "!pip install opencv-python-headless \n",
    "!pip install ultralytics\n",
    "!pip install filterpy"
   ]
  },
  {
   "cell_type": "code",
   "execution_count": 2,
   "metadata": {
    "execution": {
     "iopub.execute_input": "2025-02-04T16:07:31.950130Z",
     "iopub.status.busy": "2025-02-04T16:07:31.949820Z",
     "iopub.status.idle": "2025-02-04T16:08:07.083991Z",
     "shell.execute_reply": "2025-02-04T16:08:07.083064Z",
     "shell.execute_reply.started": "2025-02-04T16:07:31.950092Z"
    }
   },
   "outputs": [
    {
     "name": "stdout",
     "output_type": "stream",
     "text": [
      "Cloning into 'ByteTrack'...\n",
      "remote: Enumerating objects: 2007, done.\u001b[K\n",
      "remote: Total 2007 (delta 0), reused 0 (delta 0), pack-reused 2007 (from 1)\u001b[K\n",
      "Receiving objects: 100% (2007/2007), 79.60 MiB | 45.59 MiB/s, done.\n",
      "Resolving deltas: 100% (1141/1141), done.\n",
      "/kaggle/working/ByteTrack\n",
      "Requirement already satisfied: numpy in /usr/local/lib/python3.10/dist-packages (from -r requirements.txt (line 2)) (1.23.5)\n",
      "Requirement already satisfied: torch>=1.7 in /usr/local/lib/python3.10/dist-packages (from -r requirements.txt (line 3)) (2.5.1+cu121)\n",
      "Requirement already satisfied: opencv_python in /usr/local/lib/python3.10/dist-packages (from -r requirements.txt (line 4)) (4.10.0.84)\n",
      "Requirement already satisfied: loguru in /usr/local/lib/python3.10/dist-packages (from -r requirements.txt (line 5)) (0.7.3)\n",
      "Requirement already satisfied: scikit-image in /usr/local/lib/python3.10/dist-packages (from -r requirements.txt (line 6)) (0.25.0)\n",
      "Requirement already satisfied: tqdm in /usr/local/lib/python3.10/dist-packages (from -r requirements.txt (line 7)) (4.67.1)\n",
      "Requirement already satisfied: torchvision>=0.10.0 in /usr/local/lib/python3.10/dist-packages (from -r requirements.txt (line 8)) (0.20.1+cu121)\n",
      "Requirement already satisfied: Pillow in /usr/local/lib/python3.10/dist-packages (from -r requirements.txt (line 9)) (11.0.0)\n",
      "Collecting thop (from -r requirements.txt (line 10))\n",
      "  Downloading thop-0.1.1.post2209072238-py3-none-any.whl.metadata (2.7 kB)\n",
      "Requirement already satisfied: ninja in /usr/local/lib/python3.10/dist-packages (from -r requirements.txt (line 11)) (1.11.1.3)\n",
      "Requirement already satisfied: tabulate in /usr/local/lib/python3.10/dist-packages (from -r requirements.txt (line 12)) (0.9.0)\n",
      "Requirement already satisfied: tensorboard in /usr/local/lib/python3.10/dist-packages (from -r requirements.txt (line 13)) (2.17.1)\n",
      "Requirement already satisfied: lap in /usr/local/lib/python3.10/dist-packages (from -r requirements.txt (line 14)) (0.5.12)\n",
      "Requirement already satisfied: motmetrics in /usr/local/lib/python3.10/dist-packages (from -r requirements.txt (line 15)) (1.4.0)\n",
      "Requirement already satisfied: filterpy in /usr/local/lib/python3.10/dist-packages (from -r requirements.txt (line 16)) (1.4.5)\n",
      "Requirement already satisfied: h5py in /usr/local/lib/python3.10/dist-packages (from -r requirements.txt (line 17)) (3.12.1)\n",
      "Collecting onnx==1.8.1 (from -r requirements.txt (line 20))\n",
      "  Downloading onnx-1.8.1.tar.gz (5.2 MB)\n",
      "\u001b[2K     \u001b[90m━━━━━━━━━━━━━━━━━━━━━━━━━━━━━━━━━━━━━━━━\u001b[0m \u001b[32m5.2/5.2 MB\u001b[0m \u001b[31m63.7 MB/s\u001b[0m eta \u001b[36m0:00:00\u001b[0m00:01\u001b[0m00:01\u001b[0m\n",
      "\u001b[?25h  Installing build dependencies ... \u001b[?25l\u001b[?25hdone\n",
      "  Getting requirements to build wheel ... \u001b[?25l\u001b[?25hdone\n",
      "  Installing backend dependencies ... \u001b[?25l\u001b[?25hdone\n",
      "  Preparing metadata (pyproject.toml) ... \u001b[?25l\u001b[?25hdone\n",
      "\u001b[31mERROR: Could not find a version that satisfies the requirement onnxruntime==1.8.0 (from versions: 1.12.0, 1.12.1, 1.13.1, 1.14.0, 1.14.1, 1.15.0, 1.15.1, 1.16.0, 1.16.1, 1.16.2, 1.16.3, 1.17.0, 1.17.1, 1.17.3, 1.18.0, 1.18.1, 1.19.0, 1.19.2, 1.20.0, 1.20.1)\u001b[0m\u001b[31m\n",
      "\u001b[0m\u001b[31mERROR: No matching distribution found for onnxruntime==1.8.0\u001b[0m\u001b[31m\n",
      "\u001b[0m/usr/local/lib/python3.10/dist-packages/setuptools/command/develop.py:41: EasyInstallDeprecationWarning: easy_install command is deprecated.\n",
      "!!\n",
      "\n",
      "        ********************************************************************************\n",
      "        Please avoid running ``setup.py`` and ``easy_install``.\n",
      "        Instead, use pypa/build, pypa/installer or other\n",
      "        standards-based tools.\n",
      "\n",
      "        See https://github.com/pypa/setuptools/issues/917 for details.\n",
      "        ********************************************************************************\n",
      "\n",
      "!!\n",
      "  easy_install.initialize_options(self)\n",
      "/usr/local/lib/python3.10/dist-packages/setuptools/_distutils/cmd.py:66: SetuptoolsDeprecationWarning: setup.py install is deprecated.\n",
      "!!\n",
      "\n",
      "        ********************************************************************************\n",
      "        Please avoid running ``setup.py`` directly.\n",
      "        Instead, use pypa/build, pypa/installer or other\n",
      "        standards-based tools.\n",
      "\n",
      "        See https://blog.ganssle.io/articles/2021/10/setup-py-deprecated.html for details.\n",
      "        ********************************************************************************\n",
      "\n",
      "!!\n",
      "  self.initialize_options()\n",
      "Emitting ninja build file /kaggle/working/ByteTrack/build/temp.linux-x86_64-cpython-310/build.ninja...\n",
      "Compiling objects...\n",
      "Allowing ninja to set a default number of workers... (overridable by setting the environment variable MAX_JOBS=N)\n",
      "[1/2] c++ -MMD -MF /kaggle/working/ByteTrack/build/temp.linux-x86_64-cpython-310/kaggle/working/ByteTrack/yolox/layers/csrc/cocoeval/cocoeval.o.d -Wno-unused-result -Wsign-compare -DNDEBUG -g -fwrapv -O2 -Wall -g -fstack-protector-strong -Wformat -Werror=format-security -g -fwrapv -O2 -fPIC -I/kaggle/working/ByteTrack/yolox/layers/csrc -I/usr/local/lib/python3.10/dist-packages/torch/include -I/usr/local/lib/python3.10/dist-packages/torch/include/torch/csrc/api/include -I/usr/local/lib/python3.10/dist-packages/torch/include/TH -I/usr/local/lib/python3.10/dist-packages/torch/include/THC -I/usr/include/python3.10 -c -c /kaggle/working/ByteTrack/yolox/layers/csrc/cocoeval/cocoeval.cpp -o /kaggle/working/ByteTrack/build/temp.linux-x86_64-cpython-310/kaggle/working/ByteTrack/yolox/layers/csrc/cocoeval/cocoeval.o -O3 -DTORCH_API_INCLUDE_EXTENSION_H '-DPYBIND11_COMPILER_TYPE=\"_gcc\"' '-DPYBIND11_STDLIB=\"_libstdcpp\"' '-DPYBIND11_BUILD_ABI=\"_cxxabi1011\"' -DTORCH_EXTENSION_NAME=_C -D_GLIBCXX_USE_CXX11_ABI=0 -std=c++17\n",
      "[2/2] c++ -MMD -MF /kaggle/working/ByteTrack/build/temp.linux-x86_64-cpython-310/kaggle/working/ByteTrack/yolox/layers/csrc/vision.o.d -Wno-unused-result -Wsign-compare -DNDEBUG -g -fwrapv -O2 -Wall -g -fstack-protector-strong -Wformat -Werror=format-security -g -fwrapv -O2 -fPIC -I/kaggle/working/ByteTrack/yolox/layers/csrc -I/usr/local/lib/python3.10/dist-packages/torch/include -I/usr/local/lib/python3.10/dist-packages/torch/include/torch/csrc/api/include -I/usr/local/lib/python3.10/dist-packages/torch/include/TH -I/usr/local/lib/python3.10/dist-packages/torch/include/THC -I/usr/include/python3.10 -c -c /kaggle/working/ByteTrack/yolox/layers/csrc/vision.cpp -o /kaggle/working/ByteTrack/build/temp.linux-x86_64-cpython-310/kaggle/working/ByteTrack/yolox/layers/csrc/vision.o -O3 -DTORCH_API_INCLUDE_EXTENSION_H '-DPYBIND11_COMPILER_TYPE=\"_gcc\"' '-DPYBIND11_STDLIB=\"_libstdcpp\"' '-DPYBIND11_BUILD_ABI=\"_cxxabi1011\"' -DTORCH_EXTENSION_NAME=_C -D_GLIBCXX_USE_CXX11_ABI=0 -std=c++17\n"
     ]
    }
   ],
   "source": [
    "!git clone https://github.com/ifzhang/ByteTrack.git\n",
    "%cd ByteTrack\n",
    "!pip install -r requirements.txt\n",
    "!python setup.py develop"
   ]
  },
  {
   "cell_type": "code",
   "execution_count": 3,
   "metadata": {
    "execution": {
     "iopub.execute_input": "2025-02-04T16:08:07.086203Z",
     "iopub.status.busy": "2025-02-04T16:08:07.085883Z",
     "iopub.status.idle": "2025-02-04T16:08:36.649663Z",
     "shell.execute_reply": "2025-02-04T16:08:36.648859Z",
     "shell.execute_reply.started": "2025-02-04T16:08:07.086178Z"
    }
   },
   "outputs": [
    {
     "name": "stdout",
     "output_type": "stream",
     "text": [
      "Creating new Ultralytics Settings v0.0.6 file ✅ \n",
      "View Ultralytics Settings with 'yolo settings' or at '/root/.config/Ultralytics/settings.json'\n",
      "Update Settings with 'yolo settings key=value', i.e. 'yolo settings runs_dir=path/to/dir'. For help see https://docs.ultralytics.com/quickstart/#ultralytics-settings.\n"
     ]
    },
    {
     "name": "stderr",
     "output_type": "stream",
     "text": [
      "/kaggle/working/ByteTrack/yolox/tracker/byte_tracker.py:182: UserWarning: indexing with dtype torch.uint8 is now deprecated, please use a dtype torch.bool instead. (Triggered internally at ../aten/src/ATen/native/IndexingUtils.h:27.)\n",
      "  dets_second = bboxes[inds_second]\n",
      "/kaggle/working/ByteTrack/yolox/tracker/byte_tracker.py:185: UserWarning: indexing with dtype torch.uint8 is now deprecated, please use a dtype torch.bool instead. (Triggered internally at ../aten/src/ATen/native/IndexingUtils.h:27.)\n",
      "  scores_second = scores[inds_second]\n"
     ]
    },
    {
     "name": "stdout",
     "output_type": "stream",
     "text": [
      "Tracking complete.\n"
     ]
    }
   ],
   "source": [
    "import os\n",
    "import cv2\n",
    "import numpy as np\n",
    "import pandas as pd\n",
    "from ultralytics import YOLO\n",
    "from yolox.tracker.byte_tracker import BYTETracker\n",
    "from collections import namedtuple\n",
    "import torch\n",
    "\n",
    "IMAGE_FOLDER = \"/kaggle/input/sportsmot/sportsmot_publish/dataset/val/v_dw7LOz17Omg_c067/img1\"\n",
    "CSV_OUTPUT = \"tracking_results_bytetrack.csv\"\n",
    "\n",
    "model = YOLO(\"/kaggle/input/bl/other/default/1/best.pt\")\n",
    "\n",
    "class TrackerArgs:\n",
    "    def __init__(self):\n",
    "        self.track_thresh = 0.3\n",
    "        self.track_buffer = 40\n",
    "        self.match_thresh = 0.8\n",
    "        self.mot20 = False\n",
    "\n",
    "args = TrackerArgs()\n",
    "tracker = BYTETracker(args)\n",
    "\n",
    "frames = sorted(os.listdir(IMAGE_FOLDER))\n",
    "tracking_results = []\n",
    "\n",
    "first_frame = cv2.imread(os.path.join(IMAGE_FOLDER, frames[0]))\n",
    "height, width, _ = first_frame.shape\n",
    "\n",
    "fourcc = cv2.VideoWriter_fourcc(*'mp4v')\n",
    "out = cv2.VideoWriter(\"output_bytetrack.mp4\", fourcc, 25, (width, height))\n",
    "\n",
    "for frame_id, frame_name in enumerate(frames, start=1):\n",
    "    frame_path = os.path.join(IMAGE_FOLDER, frame_name)\n",
    "    frame = cv2.imread(frame_path)\n",
    "\n",
    "    if frame is None:\n",
    "        print(f\"Skipping {frame_name}, could not load.\")\n",
    "        continue\n",
    "\n",
    "    results = model(frame, verbose=False)[0]\n",
    "\n",
    "    detections = []\n",
    "    for result in results.boxes.data.tolist():\n",
    "        x1, y1, x2, y2, conf, cls_id = result\n",
    "        detections.append([x1, y1, x2, y2, conf])\n",
    "\n",
    "    detections = torch.tensor(detections, dtype=torch.float32)\n",
    "\n",
    "    for d in detections:\n",
    "        d[4] = max(d[4], 0.5)\n",
    "\n",
    "    if len(detections) > 0:\n",
    "        img_size = frame.shape[:2]\n",
    "        img_info = (img_size[0], img_size[1], frame_id)\n",
    "\n",
    "        online_targets = tracker.update(detections, img_info, img_size)\n",
    "\n",
    "        for t in online_targets:\n",
    "            track_id = t.track_id\n",
    "            x1, y1, w, h = map(int, t.tlwh)\n",
    "            x2, y2 = x1 + w, y1 + h\n",
    "\n",
    "            tracking_results.append([frame_id, track_id, x1, y1, x2-x1, y2-y1, t.score, 1, 1])\n",
    "\n",
    "            cv2.rectangle(frame, (x1, y1), (x2, y2), (0, 255, 0), 2)\n",
    "            cv2.putText(frame, f'ID: {track_id}', (x1, y1 - 10),\n",
    "                        cv2.FONT_HERSHEY_SIMPLEX, 0.5, (255, 0, 0), 2)\n",
    "\n",
    "    out.write(frame)\n",
    "\n",
    "\n",
    "out.release()\n",
    "\n",
    "df = pd.DataFrame(tracking_results, columns=['frame', 'id', 'x', 'y', 'w', 'h', 'conf', 'class', 'vis'])\n",
    "df.to_csv(CSV_OUTPUT, index=False, header=False)\n",
    "\n",
    "print(f\"Tracking complete.\")"
   ]
  },
  {
   "cell_type": "code",
   "execution_count": 4,
   "metadata": {
    "execution": {
     "iopub.execute_input": "2025-02-04T16:08:36.650827Z",
     "iopub.status.busy": "2025-02-04T16:08:36.650604Z",
     "iopub.status.idle": "2025-02-04T16:08:36.740998Z",
     "shell.execute_reply": "2025-02-04T16:08:36.740368Z",
     "shell.execute_reply.started": "2025-02-04T16:08:36.650805Z"
    }
   },
   "outputs": [],
   "source": [
    "import motmetrics as mm\n",
    "import pandas as pd\n",
    "\n",
    "def load_mot_data(file_path):\n",
    "    columns = ['frame', 'id', 'x', 'y', 'w', 'h', 'conf', 'class', 'vis']\n",
    "    df = pd.read_csv(file_path, names=columns)\n",
    "    df = df[['frame', 'id', 'x', 'y', 'w', 'h']]\n",
    "    return df\n",
    "\n",
    "gt_file = \"/kaggle/input/sportsmot/sportsmot_publish/dataset/val/v_dw7LOz17Omg_c067/gt/gt.txt\"\n",
    "pred_file = \"/kaggle/working/ByteTrack/tracking_results_bytetrack.csv\"\n",
    "\n",
    "gt_data = load_mot_data(gt_file)\n",
    "pred_data = load_mot_data(pred_file)"
   ]
  },
  {
   "cell_type": "code",
   "execution_count": 5,
   "metadata": {
    "execution": {
     "iopub.execute_input": "2025-02-04T16:08:36.741924Z",
     "iopub.status.busy": "2025-02-04T16:08:36.741705Z",
     "iopub.status.idle": "2025-02-04T16:08:37.727253Z",
     "shell.execute_reply": "2025-02-04T16:08:37.726531Z",
     "shell.execute_reply.started": "2025-02-04T16:08:36.741902Z"
    }
   },
   "outputs": [
    {
     "name": "stdout",
     "output_type": "stream",
     "text": [
      "                  idf1      mota  precision\n",
      "MOT Evaluation  0.6908  0.882885   0.957164\n"
     ]
    }
   ],
   "source": [
    "acc = mm.MOTAccumulator(auto_id=True)\n",
    "\n",
    "for frame in sorted(gt_data['frame'].unique()):\n",
    "    gt_frame = gt_data[gt_data['frame'] == frame]\n",
    "    pred_frame = pred_data[pred_data['frame'] == frame]\n",
    "\n",
    "    gt_ids = list(gt_frame['id'])\n",
    "    pred_ids = list(pred_frame['id'])\n",
    "\n",
    "    distances = mm.distances.iou_matrix(\n",
    "        gt_frame[['x', 'y', 'w', 'h']].values,\n",
    "        pred_frame[['x', 'y', 'w', 'h']].values,\n",
    "        max_iou=0.5\n",
    "    )\n",
    "\n",
    "    acc.update(gt_ids, pred_ids, distances)\n",
    "\n",
    "mh = mm.metrics.create()\n",
    "\n",
    "summary_bytetrack = mh.compute(acc, metrics=['idf1', 'mota', 'precision'], name='MOT Evaluation')\n",
    "\n",
    "print(summary_bytetrack)\n"
   ]
  },
  {
   "cell_type": "code",
   "execution_count": 6,
   "metadata": {
    "execution": {
     "iopub.execute_input": "2025-02-04T16:08:38.917658Z",
     "iopub.status.busy": "2025-02-04T16:08:38.917370Z",
     "iopub.status.idle": "2025-02-04T16:10:31.085691Z",
     "shell.execute_reply": "2025-02-04T16:10:31.084770Z",
     "shell.execute_reply.started": "2025-02-04T16:08:38.917636Z"
    }
   },
   "outputs": [
    {
     "name": "stdout",
     "output_type": "stream",
     "text": [
      "Processing video: /kaggle/input/sportsmot/sportsmot_publish/dataset/val/v_dw7LOz17Omg_c067\n"
     ]
    },
    {
     "name": "stderr",
     "output_type": "stream",
     "text": [
      "/kaggle/working/ByteTrack/yolox/tracker/byte_tracker.py:182: UserWarning: indexing with dtype torch.uint8 is now deprecated, please use a dtype torch.bool instead. (Triggered internally at ../aten/src/ATen/native/IndexingUtils.h:27.)\n",
      "  dets_second = bboxes[inds_second]\n",
      "/kaggle/working/ByteTrack/yolox/tracker/byte_tracker.py:185: UserWarning: indexing with dtype torch.uint8 is now deprecated, please use a dtype torch.bool instead. (Triggered internally at ../aten/src/ATen/native/IndexingUtils.h:27.)\n",
      "  scores_second = scores[inds_second]\n"
     ]
    },
    {
     "name": "stdout",
     "output_type": "stream",
     "text": [
      "Tracking complete for /kaggle/input/sportsmot/sportsmot_publish/dataset/val/v_dw7LOz17Omg_c067. Output saved as tracking_output_bytetrack_v_dw7LOz17Omg_c067.mp4\n",
      "                  idf1      mota  precision\n",
      "MOT Evaluation  0.6908  0.882885   0.957164\n",
      "Processing video: /kaggle/input/sportsmot/sportsmot_publish/dataset/val/v_G-vNjfx1GGc_c004\n"
     ]
    },
    {
     "name": "stderr",
     "output_type": "stream",
     "text": [
      "/kaggle/working/ByteTrack/yolox/tracker/byte_tracker.py:182: UserWarning: indexing with dtype torch.uint8 is now deprecated, please use a dtype torch.bool instead. (Triggered internally at ../aten/src/ATen/native/IndexingUtils.h:27.)\n",
      "  dets_second = bboxes[inds_second]\n",
      "/kaggle/working/ByteTrack/yolox/tracker/byte_tracker.py:185: UserWarning: indexing with dtype torch.uint8 is now deprecated, please use a dtype torch.bool instead. (Triggered internally at ../aten/src/ATen/native/IndexingUtils.h:27.)\n",
      "  scores_second = scores[inds_second]\n"
     ]
    },
    {
     "name": "stdout",
     "output_type": "stream",
     "text": [
      "Tracking complete for /kaggle/input/sportsmot/sportsmot_publish/dataset/val/v_G-vNjfx1GGc_c004. Output saved as tracking_output_bytetrack_v_G-vNjfx1GGc_c004.mp4\n",
      "                    idf1      mota  precision\n",
      "MOT Evaluation  0.560165  0.829667     0.9346\n",
      "Processing video: /kaggle/input/sportsmot/sportsmot_publish/dataset/val/v_2QhNRucNC7E_c017\n"
     ]
    },
    {
     "name": "stderr",
     "output_type": "stream",
     "text": [
      "/kaggle/working/ByteTrack/yolox/tracker/byte_tracker.py:182: UserWarning: indexing with dtype torch.uint8 is now deprecated, please use a dtype torch.bool instead. (Triggered internally at ../aten/src/ATen/native/IndexingUtils.h:27.)\n",
      "  dets_second = bboxes[inds_second]\n",
      "/kaggle/working/ByteTrack/yolox/tracker/byte_tracker.py:185: UserWarning: indexing with dtype torch.uint8 is now deprecated, please use a dtype torch.bool instead. (Triggered internally at ../aten/src/ATen/native/IndexingUtils.h:27.)\n",
      "  scores_second = scores[inds_second]\n"
     ]
    },
    {
     "name": "stdout",
     "output_type": "stream",
     "text": [
      "Tracking complete for /kaggle/input/sportsmot/sportsmot_publish/dataset/val/v_2QhNRucNC7E_c017. Output saved as tracking_output_bytetrack_v_2QhNRucNC7E_c017.mp4\n",
      "                    idf1      mota  precision\n",
      "MOT Evaluation  0.693007  0.796436   0.919994\n",
      "Processing video: /kaggle/input/sportsmot/sportsmot_publish/dataset/val/v_i2_L4qquVg0_c006\n"
     ]
    },
    {
     "name": "stderr",
     "output_type": "stream",
     "text": [
      "/kaggle/working/ByteTrack/yolox/tracker/byte_tracker.py:182: UserWarning: indexing with dtype torch.uint8 is now deprecated, please use a dtype torch.bool instead. (Triggered internally at ../aten/src/ATen/native/IndexingUtils.h:27.)\n",
      "  dets_second = bboxes[inds_second]\n",
      "/kaggle/working/ByteTrack/yolox/tracker/byte_tracker.py:185: UserWarning: indexing with dtype torch.uint8 is now deprecated, please use a dtype torch.bool instead. (Triggered internally at ../aten/src/ATen/native/IndexingUtils.h:27.)\n",
      "  scores_second = scores[inds_second]\n"
     ]
    },
    {
     "name": "stdout",
     "output_type": "stream",
     "text": [
      "Tracking complete for /kaggle/input/sportsmot/sportsmot_publish/dataset/val/v_i2_L4qquVg0_c006. Output saved as tracking_output_bytetrack_v_i2_L4qquVg0_c006.mp4\n",
      "                    idf1      mota  precision\n",
      "MOT Evaluation  0.617412  0.823025   0.905695\n",
      "Processing video: /kaggle/input/sportsmot/sportsmot_publish/dataset/val/v_G-vNjfx1GGc_c601\n"
     ]
    },
    {
     "name": "stderr",
     "output_type": "stream",
     "text": [
      "/kaggle/working/ByteTrack/yolox/tracker/byte_tracker.py:182: UserWarning: indexing with dtype torch.uint8 is now deprecated, please use a dtype torch.bool instead. (Triggered internally at ../aten/src/ATen/native/IndexingUtils.h:27.)\n",
      "  dets_second = bboxes[inds_second]\n",
      "/kaggle/working/ByteTrack/yolox/tracker/byte_tracker.py:185: UserWarning: indexing with dtype torch.uint8 is now deprecated, please use a dtype torch.bool instead. (Triggered internally at ../aten/src/ATen/native/IndexingUtils.h:27.)\n",
      "  scores_second = scores[inds_second]\n"
     ]
    },
    {
     "name": "stdout",
     "output_type": "stream",
     "text": [
      "Tracking complete for /kaggle/input/sportsmot/sportsmot_publish/dataset/val/v_G-vNjfx1GGc_c601. Output saved as tracking_output_bytetrack_v_G-vNjfx1GGc_c601.mp4\n",
      "                    idf1      mota  precision\n",
      "MOT Evaluation  0.546067  0.691574   0.863352\n",
      "All tracking processes completed.\n",
      "idf1         0.621490\n",
      "mota         0.804717\n",
      "precision    0.916161\n",
      "dtype: float64\n"
     ]
    }
   ],
   "source": [
    "import random\n",
    "\n",
    "val_folder = \"/kaggle/input/sportsmot/sportsmot_publish/dataset/val/\"\n",
    "\n",
    "video_list_file = \"/kaggle/input/sportsmot/sportsmot_publish/splits_txt/football.txt\"\n",
    "\n",
    "with open(video_list_file, \"r\") as f:\n",
    "    video_names = [line.strip() for line in f.readlines() if line.strip()]\n",
    "\n",
    "\n",
    "selected_folders = [os.path.join(val_folder, v) for v in video_names if os.path.isdir(os.path.join(val_folder, v))]\n",
    "\n",
    "num_test = 5\n",
    "\n",
    "random.seed(42)\n",
    "selected_folders = random.sample(selected_folders, num_test)\n",
    "\n",
    "summary_list_bytetrack = []\n",
    "\n",
    "for video_folder in selected_folders:\n",
    "    print(f\"Processing video: {video_folder}\")\n",
    "\n",
    "\n",
    "    IMAGE_FOLDER = os.path.join(video_folder, \"img1\")\n",
    "    CSV_OUTPUT = f\"tracking_results_bytetrack_{os.path.basename(video_folder)}.csv\"\n",
    "    gt_file = os.path.join(video_folder, \"gt\", \"gt.txt\")\n",
    "\n",
    "    model = YOLO(\"/kaggle/input/bl/other/default/1/best.pt\")\n",
    "\n",
    "    class TrackerArgs:\n",
    "        def __init__(self):\n",
    "            self.track_thresh = 0.3\n",
    "            self.track_buffer = 40\n",
    "            self.match_thresh = 0.8\n",
    "            self.mot20 = False\n",
    "\n",
    "    args = TrackerArgs()\n",
    "    tracker = BYTETracker(args)\n",
    "\n",
    "    frames = sorted(os.listdir(IMAGE_FOLDER))\n",
    "    tracking_results = []\n",
    "\n",
    "    first_frame = cv2.imread(os.path.join(IMAGE_FOLDER, frames[0]))\n",
    "    height, width, _ = first_frame.shape\n",
    "\n",
    "\n",
    "    output_video_path = f\"tracking_output_bytetrack_{os.path.basename(video_folder)}.mp4\"\n",
    "    out = cv2.VideoWriter(output_video_path, cv2.VideoWriter_fourcc(*'mp4v'), 25, (height, width))\n",
    "\n",
    "    for frame_id, frame_name in enumerate(frames, start=1):\n",
    "        frame_path = os.path.join(IMAGE_FOLDER, frame_name)\n",
    "        frame = cv2.imread(frame_path)\n",
    "\n",
    "        if frame is None:\n",
    "            print(f\"Skipping {frame_name}, could not load.\")\n",
    "            continue\n",
    "\n",
    "        results = model(frame, verbose=False)[0]\n",
    "\n",
    "        detections = []\n",
    "        for result in results.boxes.data.tolist():\n",
    "            x1, y1, x2, y2, conf, cls_id = result\n",
    "            detections.append([x1, y1, x2, y2, conf])\n",
    "\n",
    "        detections = torch.tensor(detections, dtype=torch.float32)\n",
    "\n",
    "        for d in detections:\n",
    "            d[4] = max(d[4], 0.5)\n",
    "\n",
    "        if len(detections) > 0:\n",
    "            img_size = frame.shape[:2]\n",
    "            img_info = (img_size[0], img_size[1], frame_id)\n",
    "\n",
    "            online_targets = tracker.update(detections, img_info, img_size)\n",
    "\n",
    "            for t in online_targets:\n",
    "                track_id = t.track_id\n",
    "                x1, y1, w, h = map(int, t.tlwh)\n",
    "                x2, y2 = x1 + w, y1 + h\n",
    "\n",
    "                tracking_results.append([frame_id, track_id, x1, y1, x2-x1, y2-y1, t.score, 1, 1])\n",
    "\n",
    "                cv2.rectangle(frame, (x1, y1), (x2, y2), (0, 255, 0), 2)\n",
    "                cv2.putText(frame, f'ID: {track_id}', (x1, y1 - 10),\n",
    "                            cv2.FONT_HERSHEY_SIMPLEX, 0.5, (255, 0, 0), 2)\n",
    "\n",
    "    out.write(frame)\n",
    "\n",
    "\n",
    "    out.release()\n",
    "\n",
    "    df = pd.DataFrame(tracking_results, columns=['frame', 'id', 'x', 'y', 'w', 'h', 'conf', 'class', 'vis'])\n",
    "    df.to_csv(CSV_OUTPUT, index=False, header=False)\n",
    "    print(f\"Tracking complete for {video_folder}. Output saved as {output_video_path}\")\n",
    "\n",
    "    \n",
    "    gt_data = load_mot_data(gt_file)\n",
    "    pred_data = load_mot_data(CSV_OUTPUT)\n",
    "\n",
    "    acc = mm.MOTAccumulator(auto_id=True)\n",
    "\n",
    "    for frame in sorted(gt_data['frame'].unique()):\n",
    "        gt_frame = gt_data[gt_data['frame'] == frame]\n",
    "        pred_frame = pred_data[pred_data['frame'] == frame]\n",
    "\n",
    "        gt_ids = list(gt_frame['id'])\n",
    "        pred_ids = list(pred_frame['id'])\n",
    "\n",
    "        distances = mm.distances.iou_matrix(\n",
    "            gt_frame[['x', 'y', 'w', 'h']].values,\n",
    "            pred_frame[['x', 'y', 'w', 'h']].values,\n",
    "            max_iou=0.5\n",
    "        )\n",
    "\n",
    "        acc.update(gt_ids, pred_ids, distances)\n",
    "\n",
    "    mh = mm.metrics.create()\n",
    "\n",
    "    summary_bytetrack = mh.compute(acc, metrics=['idf1', 'mota', 'precision'], name='MOT Evaluation')\n",
    "    summary_list_bytetrack.append(summary_bytetrack)\n",
    "\n",
    "    print(summary_bytetrack)\n",
    "\n",
    "print(\"All tracking processes completed.\")\n",
    "\n",
    "bytetrack_mean = pd.concat(summary_list_bytetrack, ignore_index=True).mean()\n",
    "print(bytetrack_mean)"
   ]
  },
  {
   "cell_type": "code",
   "execution_count": 7,
   "metadata": {
    "execution": {
     "iopub.execute_input": "2025-02-04T16:10:31.087081Z",
     "iopub.status.busy": "2025-02-04T16:10:31.086843Z",
     "iopub.status.idle": "2025-02-04T16:10:31.127996Z",
     "shell.execute_reply": "2025-02-04T16:10:31.127172Z",
     "shell.execute_reply.started": "2025-02-04T16:10:31.087060Z"
    }
   },
   "outputs": [],
   "source": [
    "import cv2\n",
    "import torch\n",
    "import numpy as np\n",
    "import matplotlib.pyplot as plt\n",
    "import os\n",
    "\n",
    "from deep_sort_realtime.deepsort_tracker import DeepSort\n",
    "from ultralytics import YOLO"
   ]
  },
  {
   "cell_type": "code",
   "execution_count": 8,
   "metadata": {
    "execution": {
     "iopub.execute_input": "2025-02-04T16:10:31.130066Z",
     "iopub.status.busy": "2025-02-04T16:10:31.129647Z",
     "iopub.status.idle": "2025-02-04T16:10:31.216944Z",
     "shell.execute_reply": "2025-02-04T16:10:31.216303Z",
     "shell.execute_reply.started": "2025-02-04T16:10:31.130044Z"
    }
   },
   "outputs": [],
   "source": [
    "model = YOLO(\"/kaggle/input/bl/other/default/1/best.pt\")\n",
    "\n",
    "def detect_objects(frame):\n",
    "    results = model(frame, verbose=False)\n",
    "\n",
    "    detections = []\n",
    "    for i, box in enumerate(results[0].boxes.xywh):\n",
    "        detections.append((box.tolist(), float(results[0].boxes.conf[i]), int(results[0].boxes.cls[i])))\n",
    "    \n",
    "    return detections"
   ]
  },
  {
   "cell_type": "code",
   "execution_count": 9,
   "metadata": {
    "execution": {
     "iopub.execute_input": "2025-02-04T16:10:31.218487Z",
     "iopub.status.busy": "2025-02-04T16:10:31.218168Z",
     "iopub.status.idle": "2025-02-04T16:10:31.810010Z",
     "shell.execute_reply": "2025-02-04T16:10:31.809340Z",
     "shell.execute_reply.started": "2025-02-04T16:10:31.218456Z"
    }
   },
   "outputs": [],
   "source": [
    "tracker = DeepSort(max_age=30,\n",
    "                   n_init=3,\n",
    "                   nms_max_overlap=1.0,\n",
    "                   max_cosine_distance=0.5,\n",
    "                   nn_budget=None,\n",
    "                   override_track_class=None)"
   ]
  },
  {
   "cell_type": "code",
   "execution_count": 10,
   "metadata": {
    "execution": {
     "iopub.execute_input": "2025-02-04T16:10:31.811588Z",
     "iopub.status.busy": "2025-02-04T16:10:31.811352Z",
     "iopub.status.idle": "2025-02-04T16:11:45.590882Z",
     "shell.execute_reply": "2025-02-04T16:11:45.590029Z",
     "shell.execute_reply.started": "2025-02-04T16:10:31.811567Z"
    }
   },
   "outputs": [
    {
     "name": "stdout",
     "output_type": "stream",
     "text": [
      "Completed!\n"
     ]
    }
   ],
   "source": [
    "IMAGE_FOLDER = '/kaggle/input/sportsmot/sportsmot_publish/dataset/val/v_dw7LOz17Omg_c067/img1'\n",
    "CSV_OUTPUT = \"tracking_results_deepsort.csv\"\n",
    "\n",
    "frames = sorted(os.listdir(IMAGE_FOLDER)) \n",
    "\n",
    "first_frame = cv2.imread(os.path.join(IMAGE_FOLDER, frames[0]))\n",
    "height, width, _ = first_frame.shape\n",
    "fourcc = cv2.VideoWriter_fourcc(*'mp4v')\n",
    "out = cv2.VideoWriter(\"output_deepsort.mp4\", fourcc, 25, (width, height))\n",
    "\n",
    "tracking_results = []\n",
    "\n",
    "for frame_id, frame_name in enumerate(frames):\n",
    "    frame_path = os.path.join(IMAGE_FOLDER, frame_name)\n",
    "    frame = cv2.imread(frame_path)\n",
    "    \n",
    "    detections = detect_objects(frame)\n",
    "    \n",
    "   \n",
    "    tracks = tracker.update_tracks(detections, frame=frame)\n",
    "\n",
    "    for track in tracks:\n",
    "        if not track.is_confirmed():\n",
    "            continue\n",
    "\n",
    "        bbox = track.to_ltwh()  \n",
    "        x, y, w, h = map(int, bbox)\n",
    "        x, y = x-w/2, y-h/2\n",
    "\n",
    "        track_id = track.track_id\n",
    "        tracking_results.append([frame_id, track_id, x, y, w, h, 1, 1, 1])\n",
    "        \n",
    "        x, y = int(x), int(y)\n",
    "        \n",
    "        cv2.rectangle(frame, (x, y), (x + w, y + h), (0, 255, 0), 2)\n",
    "        cv2.putText(frame, f\"ID: {track_id}\", (x, y - 10), cv2.FONT_HERSHEY_SIMPLEX, \n",
    "                    0.5, (0, 255, 0), 2)\n",
    "    \n",
    "    out.write(frame)\n",
    "    \n",
    "\n",
    "df = pd.DataFrame(tracking_results, columns=['frame', 'id', 'x', 'y', 'w', 'h', 'conf', 'class', 'vis'])\n",
    "df.to_csv(CSV_OUTPUT, index=False, header=False)\n",
    "\n",
    "out.release()\n",
    "print(\"Completed!\")"
   ]
  },
  {
   "cell_type": "code",
   "execution_count": 11,
   "metadata": {
    "execution": {
     "iopub.execute_input": "2025-02-04T16:11:45.591983Z",
     "iopub.status.busy": "2025-02-04T16:11:45.591688Z",
     "iopub.status.idle": "2025-02-04T16:11:45.611305Z",
     "shell.execute_reply": "2025-02-04T16:11:45.610490Z",
     "shell.execute_reply.started": "2025-02-04T16:11:45.591952Z"
    }
   },
   "outputs": [],
   "source": [
    "import motmetrics as mm\n",
    "import pandas as pd\n",
    "\n",
    "def load_mot_data(file_path):\n",
    "    columns = ['frame', 'id', 'x', 'y', 'w', 'h', 'conf', 'class', 'vis']\n",
    "    df = pd.read_csv(file_path, names=columns)\n",
    "    df = df[['frame', 'id', 'x', 'y', 'w', 'h']]\n",
    "    return df\n",
    "\n",
    "gt_file = \"/kaggle/input/sportsmot/sportsmot_publish/dataset/val/v_dw7LOz17Omg_c067/gt/gt.txt\"  # Change to your GT file path\n",
    "pred_file = \"/kaggle/working/ByteTrack/tracking_results_deepsort.csv\"\n",
    "\n",
    "gt_data = load_mot_data(gt_file)\n",
    "pred_data = load_mot_data(pred_file)"
   ]
  },
  {
   "cell_type": "code",
   "execution_count": 12,
   "metadata": {
    "execution": {
     "iopub.execute_input": "2025-02-04T16:11:45.612263Z",
     "iopub.status.busy": "2025-02-04T16:11:45.612030Z",
     "iopub.status.idle": "2025-02-04T16:11:46.619202Z",
     "shell.execute_reply": "2025-02-04T16:11:46.618441Z",
     "shell.execute_reply.started": "2025-02-04T16:11:45.612244Z"
    }
   },
   "outputs": [
    {
     "name": "stdout",
     "output_type": "stream",
     "text": [
      "                    idf1      mota  precision\n",
      "MOT Evaluation  0.598474  0.453657   0.677144\n"
     ]
    }
   ],
   "source": [
    "acc = mm.MOTAccumulator(auto_id=True)\n",
    "\n",
    "for frame in sorted(gt_data['frame'].unique()):\n",
    "    gt_frame = gt_data[gt_data['frame'] == frame]\n",
    "    pred_frame = pred_data[pred_data['frame'] == frame]\n",
    "\n",
    "    gt_ids = list(gt_frame['id'])\n",
    "    pred_ids = list(pred_frame['id'])\n",
    "\n",
    "    distances = mm.distances.iou_matrix(\n",
    "        gt_frame[['x', 'y', 'w', 'h']].values,\n",
    "        pred_frame[['x', 'y', 'w', 'h']].values,\n",
    "        max_iou=0.5\n",
    "    )\n",
    "\n",
    "    acc.update(gt_ids, pred_ids, distances)\n",
    "\n",
    "mh = mm.metrics.create()\n",
    "\n",
    "summary_deepsort = mh.compute(acc, metrics=['idf1', 'mota', 'precision'], name='MOT Evaluation')\n",
    "\n",
    "print(summary_deepsort)"
   ]
  },
  {
   "cell_type": "code",
   "execution_count": 13,
   "metadata": {
    "execution": {
     "iopub.execute_input": "2025-02-04T16:11:46.620980Z",
     "iopub.status.busy": "2025-02-04T16:11:46.620735Z",
     "iopub.status.idle": "2025-02-04T16:19:00.050977Z",
     "shell.execute_reply": "2025-02-04T16:19:00.050136Z",
     "shell.execute_reply.started": "2025-02-04T16:11:46.620956Z"
    }
   },
   "outputs": [
    {
     "name": "stdout",
     "output_type": "stream",
     "text": [
      "Processing video: /kaggle/input/sportsmot/sportsmot_publish/dataset/val/v_dw7LOz17Omg_c067\n",
      "Tracking complete for /kaggle/input/sportsmot/sportsmot_publish/dataset/val/v_dw7LOz17Omg_c067. Output saved as tracking_output_deepsort_v_dw7LOz17Omg_c067.mp4\n",
      "                    idf1      mota  precision\n",
      "MOT Evaluation  0.598474  0.453657   0.677144\n",
      "Processing video: /kaggle/input/sportsmot/sportsmot_publish/dataset/val/v_G-vNjfx1GGc_c004\n",
      "Tracking complete for /kaggle/input/sportsmot/sportsmot_publish/dataset/val/v_G-vNjfx1GGc_c004. Output saved as tracking_output_deepsort_v_G-vNjfx1GGc_c004.mp4\n",
      "                    idf1      mota  precision\n",
      "MOT Evaluation  0.429404  0.356765   0.636689\n",
      "Processing video: /kaggle/input/sportsmot/sportsmot_publish/dataset/val/v_2QhNRucNC7E_c017\n",
      "Tracking complete for /kaggle/input/sportsmot/sportsmot_publish/dataset/val/v_2QhNRucNC7E_c017. Output saved as tracking_output_deepsort_v_2QhNRucNC7E_c017.mp4\n",
      "                    idf1     mota  precision\n",
      "MOT Evaluation  0.599386  0.52235   0.711018\n",
      "Processing video: /kaggle/input/sportsmot/sportsmot_publish/dataset/val/v_i2_L4qquVg0_c006\n",
      "Tracking complete for /kaggle/input/sportsmot/sportsmot_publish/dataset/val/v_i2_L4qquVg0_c006. Output saved as tracking_output_deepsort_v_i2_L4qquVg0_c006.mp4\n",
      "                    idf1      mota  precision\n",
      "MOT Evaluation  0.561445  0.505546   0.708737\n",
      "Processing video: /kaggle/input/sportsmot/sportsmot_publish/dataset/val/v_G-vNjfx1GGc_c601\n",
      "Tracking complete for /kaggle/input/sportsmot/sportsmot_publish/dataset/val/v_G-vNjfx1GGc_c601. Output saved as tracking_output_deepsort_v_G-vNjfx1GGc_c601.mp4\n",
      "                    idf1      mota  precision\n",
      "MOT Evaluation  0.354608 -0.081743    0.47948\n",
      "All tracking processes completed.\n",
      "idf1         0.508663\n",
      "mota         0.351315\n",
      "precision    0.642614\n",
      "dtype: float64\n"
     ]
    }
   ],
   "source": [
    "summary_list_deepsort = []\n",
    "\n",
    "for video_folder in selected_folders:\n",
    "    print(f\"Processing video: {video_folder}\")\n",
    "\n",
    "    tracker = DeepSort(max_age=30,\n",
    "                   n_init=3,\n",
    "                   nms_max_overlap=1.0,\n",
    "                   max_cosine_distance=0.5,\n",
    "                   nn_budget=None,\n",
    "                   override_track_class=None)\n",
    "\n",
    "    IMAGE_FOLDER = os.path.join(video_folder, \"img1\")\n",
    "    CSV_OUTPUT = f\"tracking_results_deepsort_{os.path.basename(video_folder)}.csv\"\n",
    "    gt_file = os.path.join(video_folder, \"gt\", \"gt.txt\")\n",
    "\n",
    "\n",
    "    frames = sorted(os.listdir(IMAGE_FOLDER)) \n",
    "\n",
    "    first_frame = cv2.imread(os.path.join(IMAGE_FOLDER, frames[0]))\n",
    "    height, width, _ = first_frame.shape\n",
    "    \n",
    "    output_video_path = f\"tracking_output_deepsort_{os.path.basename(video_folder)}.mp4\"\n",
    "    out = cv2.VideoWriter(output_video_path, cv2.VideoWriter_fourcc(*'mp4v'), 25, (height, width))\n",
    "\n",
    "\n",
    "    tracking_results = []\n",
    "\n",
    "    for frame_id, frame_name in enumerate(frames):\n",
    "        frame_path = os.path.join(IMAGE_FOLDER, frame_name)\n",
    "        frame = cv2.imread(frame_path)\n",
    "    \n",
    "        detections = detect_objects(frame)\n",
    "    \n",
    "   \n",
    "        tracks = tracker.update_tracks(detections, frame=frame)\n",
    "\n",
    "        for track in tracks:\n",
    "            if not track.is_confirmed():\n",
    "                continue\n",
    "\n",
    "            bbox = track.to_ltwh()  \n",
    "            x, y, w, h = map(int, bbox)\n",
    "            x, y = x-w/2, y-h/2\n",
    "\n",
    "            track_id = track.track_id\n",
    "            tracking_results.append([frame_id, track_id, x, y, w, h, 1, 1, 1])\n",
    "        \n",
    "            x, y = int(x), int(y)\n",
    "        \n",
    "            cv2.rectangle(frame, (x, y), (x + w, y + h), (0, 255, 0), 2)\n",
    "            cv2.putText(frame, f\"ID: {track_id}\", (x, y - 10), cv2.FONT_HERSHEY_SIMPLEX, \n",
    "                    0.5, (0, 255, 0), 2)\n",
    "    \n",
    "        out.write(frame)\n",
    "    \n",
    "\n",
    "    df = pd.DataFrame(tracking_results, columns=['frame', 'id', 'x', 'y', 'w', 'h', 'conf', 'class', 'vis'])\n",
    "    df.to_csv(CSV_OUTPUT, index=False, header=False)\n",
    "\n",
    "    out.release()\n",
    "\n",
    "    print(f\"Tracking complete for {video_folder}. Output saved as {output_video_path}\")\n",
    "\n",
    "    \n",
    "    gt_data = load_mot_data(gt_file)\n",
    "    pred_data = load_mot_data(CSV_OUTPUT)\n",
    "\n",
    "    acc = mm.MOTAccumulator(auto_id=True)\n",
    "\n",
    "    for frame in sorted(gt_data['frame'].unique()):\n",
    "        gt_frame = gt_data[gt_data['frame'] == frame]\n",
    "        pred_frame = pred_data[pred_data['frame'] == frame]\n",
    "\n",
    "        gt_ids = list(gt_frame['id'])\n",
    "        pred_ids = list(pred_frame['id'])\n",
    "\n",
    "        distances = mm.distances.iou_matrix(\n",
    "            gt_frame[['x', 'y', 'w', 'h']].values,\n",
    "            pred_frame[['x', 'y', 'w', 'h']].values,\n",
    "            max_iou=0.5\n",
    "        )\n",
    "\n",
    "        acc.update(gt_ids, pred_ids, distances)\n",
    "\n",
    "    mh = mm.metrics.create()\n",
    "\n",
    "    summary_deepsort = mh.compute(acc, metrics=['idf1', 'mota', 'precision'], name='MOT Evaluation')\n",
    "    summary_list_deepsort.append(summary_deepsort)\n",
    "\n",
    "    print(summary_deepsort)\n",
    "\n",
    "print(\"All tracking processes completed.\")\n",
    "\n",
    "deepsort_mean = pd.concat(summary_list_deepsort, ignore_index=True).mean()\n",
    "\n",
    "print(deepsort_mean)"
   ]
  },
  {
   "cell_type": "code",
   "execution_count": 20,
   "metadata": {
    "execution": {
     "iopub.execute_input": "2025-02-04T16:23:14.118319Z",
     "iopub.status.busy": "2025-02-04T16:23:14.117950Z",
     "iopub.status.idle": "2025-02-04T16:23:15.079025Z",
     "shell.execute_reply": "2025-02-04T16:23:15.078035Z",
     "shell.execute_reply.started": "2025-02-04T16:23:14.118278Z"
    }
   },
   "outputs": [
    {
     "data": {
      "image/png": "[encoded data removed]",
      "text/plain": [
       "<Figure size 800x500 with 1 Axes>"
      ]
     },
     "metadata": {},
     "output_type": "display_data"
    },
    {
     "data": {
      "image/png": "[encoded data removed]",
      "text/plain": [
       "<Figure size 800x500 with 1 Axes>"
      ]
     },
     "metadata": {},
     "output_type": "display_data"
    },
    {
     "data": {
      "image/png": "[encoded data removed]",
      "text/plain": [
       "<Figure size 800x500 with 1 Axes>"
      ]
     },
     "metadata": {},
     "output_type": "display_data"
    },
    {
     "data": {
      "image/png": "[encoded data removed]",
      "text/plain": [
       "<Figure size 800x500 with 1 Axes>"
      ]
     },
     "metadata": {},
     "output_type": "display_data"
    },
    {
     "data": {
      "image/png": "[encoded data removed]",
      "text/plain": [
       "<Figure size 800x500 with 1 Axes>"
      ]
     },
     "metadata": {},
     "output_type": "display_data"
    }
   ],
   "source": [
    "bytetrack_dfs = summary_list_bytetrack\n",
    "deepsort_dfs = summary_list_deepsort\n",
    "\n",
    "video_names = [f\"Video {i+1}\" for i in range(len(bytetrack_dfs))]\n",
    "\n",
    "metrics = ['idf1', 'mota', 'precision']\n",
    "x = np.arange(3)\n",
    "width = 0.3\n",
    "\n",
    "for i, (bt_df, ds_df) in enumerate(zip(bytetrack_dfs, deepsort_dfs)):\n",
    "    bt_metrics = bt_df.mean()\n",
    "    ds_metrics = ds_df.mean()\n",
    "\n",
    "    \n",
    "    fig, ax = plt.subplots(figsize=(8, 5))\n",
    "\n",
    "    ax.bar(x - width/2, bt_metrics[metrics], width, label='ByteTrack', alpha=0.7)\n",
    "    ax.bar(x + width/2, ds_metrics[metrics], width, label='DeepSort', alpha=0.7)\n",
    "\n",
    "    ax.set_xlabel(\"Metrics\")\n",
    "    ax.set_ylabel(\"Score\")\n",
    "    ax.set_title(f\"Metrics for {video_names[i]}\")\n",
    "    ax.set_xticks(x)\n",
    "    ax.set_xticklabels(metrics)\n",
    "    ax.legend()\n",
    "\n",
    "    plt.show()\n"
   ]
  },
  {
   "cell_type": "code",
   "execution_count": null,
   "metadata": {},
   "outputs": [],
   "source": []
  }
 ],
 "metadata": {
  "kaggle": {
   "accelerator": "nvidiaTeslaT4",
   "dataSources": [
    {
     "datasetId": 4045126,
     "sourceId": 7032396,
     "sourceType": "datasetVersion"
    },
    {
     "isSourceIdPinned": true,
     "modelId": 233355,
     "modelInstanceId": 211662,
     "sourceId": 247640,
     "sourceType": "modelInstanceVersion"
    }
   ],
   "dockerImageVersionId": 30839,
   "isGpuEnabled": true,
   "isInternetEnabled": true,
   "language": "python",
   "sourceType": "notebook"
  },
  "kernelspec": {
   "display_name": "Python 3 (ipykernel)",
   "language": "python",
   "name": "python3"
  },
  "language_info": {
   "codemirror_mode": {
    "name": "ipython",
    "version": 3
   },
   "file_extension": ".py",
   "mimetype": "text/x-python",
   "name": "python",
   "nbconvert_exporter": "python",
   "pygments_lexer": "ipython3",
   "version": "3.11.2"
  }
 },
 "nbformat": 4,
 "nbformat_minor": 4
}
