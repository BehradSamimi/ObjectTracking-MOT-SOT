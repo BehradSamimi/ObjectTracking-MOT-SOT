{
 "cells": [
  {
   "cell_type": "code",
   "execution_count": null,
   "metadata": {},
   "outputs": [],
   "source": [
    "!pip install --upgrade --no-cache-dir --force-reinstall numpy==1.23.5 --only-binary=:all:"
   ]
  },
  {
   "cell_type": "code",
   "execution_count": null,
   "metadata": {},
   "outputs": [],
   "source": [
    "!pip install opencv-python==4.9.0.80"
   ]
  },
  {
   "cell_type": "code",
   "execution_count": 1,
   "metadata": {
    "execution": {
     "iopub.execute_input": "2025-02-04T11:57:32.188966Z",
     "iopub.status.busy": "2025-02-04T11:57:32.188626Z",
     "iopub.status.idle": "2025-02-04T11:57:33.193832Z",
     "shell.execute_reply": "2025-02-04T11:57:33.192668Z",
     "shell.execute_reply.started": "2025-02-04T11:57:32.188942Z"
    }
   },
   "outputs": [
    {
     "name": "stdout",
     "output_type": "stream",
     "text": [
      "Cloning into 'SiamMask'...\n",
      "remote: Enumerating objects: 267, done.\u001b[K\n",
      "remote: Total 267 (delta 0), reused 0 (delta 0), pack-reused 267 (from 1)\u001b[K\n",
      "Receiving objects: 100% (267/267), 6.91 MiB | 27.09 MiB/s, done.\n",
      "Resolving deltas: 100% (65/65), done.\n",
      "/kaggle/working/SiamMask\n"
     ]
    }
   ],
   "source": [
    "!git clone https://github.com/foolwood/SiamMask.git\n",
    "%cd SiamMask"
   ]
  },
  {
   "cell_type": "code",
   "execution_count": 2,
   "metadata": {
    "execution": {
     "iopub.execute_input": "2025-02-04T11:57:33.195783Z",
     "iopub.status.busy": "2025-02-04T11:57:33.195467Z",
     "iopub.status.idle": "2025-02-04T11:57:47.908117Z",
     "shell.execute_reply": "2025-02-04T11:57:47.907095Z",
     "shell.execute_reply.started": "2025-02-04T11:57:33.195753Z"
    }
   },
   "outputs": [
    {
     "name": "stdout",
     "output_type": "stream",
     "text": [
      "Compiling region.pyx because it changed.\n",
      "[1/1] Cythonizing region.pyx\n",
      "/usr/local/lib/python3.10/dist-packages/Cython/Compiler/Main.py:381: FutureWarning: Cython directive 'language_level' not set, using '3str' for now (Py3). This has changed from earlier releases! File: /kaggle/working/SiamMask/utils/pyvotkit/region.pyx\n",
      "  tree = Parsing.p_module(s, pxd, full_module_name)\n",
      "\u001b[01m\u001b[Kregion.c:\u001b[m\u001b[K In function ‘\u001b[01m\u001b[K__pyx_pw_6region_7Polygon_5__str__\u001b[m\u001b[K’:\n",
      "\u001b[01m\u001b[Kregion.c:9226:69:\u001b[m\u001b[K \u001b[01;35m\u001b[Kwarning: \u001b[m\u001b[K‘\u001b[01m\u001b[K__pyx_v_i\u001b[m\u001b[K’ may be used uninitialized in this function [\u001b[01;35m\u001b[K\u001b]8;;https://gcc.gnu.org/onlinedocs/gcc/Warning-Options.html#index-Wmaybe-uninitialized\u0007-Wmaybe-uninitialized\u001b]8;;\u0007\u001b[m\u001b[K]\n",
      " 9226 |   __pyx_t_7 = PyFloat_FromDouble((__pyx_v_self->_c_region_polygon->x\u001b[01;35m\u001b[K[\u001b[m\u001b[K__pyx_v_i])); if (unlikely(!__pyx_t_7)) __PYX_ERR(0, 141, __pyx_L1_error)\n",
      "      |                                                                     \u001b[01;35m\u001b[K^\u001b[m\u001b[K\n",
      "\u001b[01m\u001b[Kregion.c:9118:8:\u001b[m\u001b[K \u001b[01;36m\u001b[Knote: \u001b[m\u001b[K‘\u001b[01m\u001b[K__pyx_v_i\u001b[m\u001b[K’ was declared here\n",
      " 9118 |   long \u001b[01;36m\u001b[K__pyx_v_i\u001b[m\u001b[K;\n",
      "      |        \u001b[01;36m\u001b[K^~~~~~~~~\u001b[m\u001b[K\n",
      "In file included from \u001b[01m\u001b[Ksrc/region.c:11\u001b[m\u001b[K:\n",
      "\u001b[01m\u001b[Ksrc/buffer.h:\u001b[m\u001b[K In function ‘\u001b[01m\u001b[Klist_destroy\u001b[m\u001b[K’:\n",
      "\u001b[01m\u001b[Ksrc/buffer.h:134:17:\u001b[m\u001b[K \u001b[01;35m\u001b[Kwarning: \u001b[m\u001b[Kthis ‘\u001b[01m\u001b[Kif\u001b[m\u001b[K’ clause does not guard... [\u001b[01;35m\u001b[K\u001b]8;;https://gcc.gnu.org/onlinedocs/gcc/Warning-Options.html#index-Wmisleading-indentation\u0007-Wmisleading-indentation\u001b]8;;\u0007\u001b[m\u001b[K]\n",
      "  134 |                 \u001b[01;35m\u001b[Kif\u001b[m\u001b[K ((*B)->buffer[i]) free((*B)->buffer[i]); (*B)->buffer[i] = NULL;\n",
      "      |                 \u001b[01;35m\u001b[K^~\u001b[m\u001b[K\n",
      "\u001b[01m\u001b[Ksrc/buffer.h:134:61:\u001b[m\u001b[K \u001b[01;36m\u001b[Knote: \u001b[m\u001b[K...this statement, but the latter is misleadingly indented as if it were guarded by the ‘\u001b[01m\u001b[Kif\u001b[m\u001b[K’\n",
      "  134 |                 if ((*B)->buffer[i]) free((*B)->buffer[i]); \u001b[01;36m\u001b[K(\u001b[m\u001b[K*B)->buffer[i] = NULL;\n",
      "      |                                                             \u001b[01;36m\u001b[K^\u001b[m\u001b[K\n",
      "Compiling region.pyx because it changed.\n",
      "[1/1] Cythonizing region.pyx\n",
      "/usr/local/lib/python3.10/dist-packages/Cython/Compiler/Main.py:381: FutureWarning: Cython directive 'language_level' not set, using '3str' for now (Py3). This has changed from earlier releases! File: /kaggle/working/SiamMask/utils/pysot/utils/region.pyx\n",
      "  tree = Parsing.p_module(s, pxd, full_module_name)\n",
      "\u001b[01m\u001b[Kregion.c:\u001b[m\u001b[K In function ‘\u001b[01m\u001b[K__pyx_pw_6region_7Polygon_5__str__\u001b[m\u001b[K’:\n",
      "\u001b[01m\u001b[Kregion.c:9302:69:\u001b[m\u001b[K \u001b[01;35m\u001b[Kwarning: \u001b[m\u001b[K‘\u001b[01m\u001b[K__pyx_v_i\u001b[m\u001b[K’ may be used uninitialized in this function [\u001b[01;35m\u001b[K\u001b]8;;https://gcc.gnu.org/onlinedocs/gcc/Warning-Options.html#index-Wmaybe-uninitialized\u0007-Wmaybe-uninitialized\u001b]8;;\u0007\u001b[m\u001b[K]\n",
      " 9302 | t_7 = PyFloat_FromDouble((__pyx_v_self->_c_region_polygon->x\u001b[01;35m\u001b[K[\u001b[m\u001b[K__pyx_v_i])); if (unlikely(!__pyx_t_7)) __PYX_ERR(0, 147, __pyx_L1_error)\n",
      "      |                                                             \u001b[01;35m\u001b[K^\u001b[m\u001b[K\n",
      "\n",
      "\u001b[01m\u001b[Kregion.c:9194:8:\u001b[m\u001b[K \u001b[01;36m\u001b[Knote: \u001b[m\u001b[K‘\u001b[01m\u001b[K__pyx_v_i\u001b[m\u001b[K’ was declared here\n",
      " 9194 |   long \u001b[01;36m\u001b[K__pyx_v_i\u001b[m\u001b[K;\n",
      "      |        \u001b[01;36m\u001b[K^~~~~~~~~\u001b[m\u001b[K\n",
      "In file included from \u001b[01m\u001b[Ksrc/region.c:11\u001b[m\u001b[K:\n",
      "\u001b[01m\u001b[Ksrc/buffer.h:\u001b[m\u001b[K In function ‘\u001b[01m\u001b[Klist_destroy\u001b[m\u001b[K’:\n",
      "\u001b[01m\u001b[Ksrc/buffer.h:134:17:\u001b[m\u001b[K \u001b[01;35m\u001b[Kwarning: \u001b[m\u001b[Kthis ‘\u001b[01m\u001b[Kif\u001b[m\u001b[K’ clause does not guard... [\u001b[01;35m\u001b[K\u001b]8;;https://gcc.gnu.org/onlinedocs/gcc/Warning-Options.html#index-Wmisleading-indentation\u0007-Wmisleading-indentation\u001b]8;;\u0007\u001b[m\u001b[K]\n",
      "  134 |                 \u001b[01;35m\u001b[Kif\u001b[m\u001b[K ((*B)->buffer[i]) free((*B)->buffer[i]); (*B)->buffer[i] = NULL;\n",
      "      |                 \u001b[01;35m\u001b[K^~\u001b[m\u001b[K\n",
      "\u001b[01m\u001b[Ksrc/buffer.h:134:61:\u001b[m\u001b[K \u001b[01;36m\u001b[Knote: \u001b[m\u001b[K...this statement, but the latter is misleadingly indented as if it were guarded by the ‘\u001b[01m\u001b[Kif\u001b[m\u001b[K’\n",
      "  134 |                 if ((*B)->buffer[i]) free((*B)->buffer[i]); \u001b[01;36m\u001b[K(\u001b[m\u001b[K*B)->buffer[i] = NULL;\n",
      "      |                                                             \u001b[01;36m\u001b[K^\u001b[m\u001b[K\n"
     ]
    }
   ],
   "source": [
    "!bash make.sh"
   ]
  },
  {
   "cell_type": "code",
   "execution_count": 3,
   "metadata": {
    "execution": {
     "iopub.execute_input": "2025-02-04T11:57:52.125525Z",
     "iopub.status.busy": "2025-02-04T11:57:52.125112Z",
     "iopub.status.idle": "2025-02-04T11:58:04.185959Z",
     "shell.execute_reply": "2025-02-04T11:58:04.184956Z",
     "shell.execute_reply.started": "2025-02-04T11:57:52.125493Z"
    }
   },
   "outputs": [
    {
     "name": "stdout",
     "output_type": "stream",
     "text": [
      "--2025-02-04 11:57:52--  http://www.robots.ox.ac.uk/~qwang/SiamMask_VOT.pth\n",
      "Resolving www.robots.ox.ac.uk (www.robots.ox.ac.uk)... 129.67.94.2\n",
      "Connecting to www.robots.ox.ac.uk (www.robots.ox.ac.uk)|129.67.94.2|:80... connected.\n",
      "HTTP request sent, awaiting response... 301 Moved Permanently\n",
      "Location: https://www.robots.ox.ac.uk/~qwang/SiamMask_VOT.pth [following]\n",
      "--2025-02-04 11:57:52--  https://www.robots.ox.ac.uk/~qwang/SiamMask_VOT.pth\n",
      "Connecting to www.robots.ox.ac.uk (www.robots.ox.ac.uk)|129.67.94.2|:443... connected.\n",
      "HTTP request sent, awaiting response... 200 OK\n",
      "Length: 101533952 (97M)\n",
      "Saving to: ‘pretrained/SiamMask_VOT.pth’\n",
      "\n",
      "SiamMask_VOT.pth    100%[===================>]  96.83M  22.3MB/s    in 5.0s    \n",
      "\n",
      "2025-02-04 11:57:58 (19.5 MB/s) - ‘pretrained/SiamMask_VOT.pth’ saved [101533952/101533952]\n",
      "\n",
      "URL transformed to HTTPS due to an HSTS policy\n",
      "--2025-02-04 11:57:58--  https://www.robots.ox.ac.uk/~qwang/SiamMask_DAVIS.pth\n",
      "Resolving www.robots.ox.ac.uk (www.robots.ox.ac.uk)... 129.67.94.2\n",
      "Connecting to www.robots.ox.ac.uk (www.robots.ox.ac.uk)|129.67.94.2|:443... connected.\n",
      "HTTP request sent, awaiting response... 200 OK\n",
      "Length: 105878246 (101M)\n",
      "Saving to: ‘pretrained/SiamMask_DAVIS.pth’\n",
      "\n",
      "SiamMask_DAVIS.pth  100%[===================>] 100.97M  21.6MB/s    in 5.4s    \n",
      "\n",
      "2025-02-04 11:58:04 (18.8 MB/s) - ‘pretrained/SiamMask_DAVIS.pth’ saved [105878246/105878246]\n",
      "\n"
     ]
    }
   ],
   "source": [
    "!mkdir pretrained\n",
    "!wget -P pretrained http://www.robots.ox.ac.uk/~qwang/SiamMask_VOT.pth\n",
    "!wget -P pretrained http://www.robots.ox.ac.uk/~qwang/SiamMask_DAVIS.pth"
   ]
  },
  {
   "cell_type": "code",
   "execution_count": 5,
   "metadata": {
    "execution": {
     "iopub.execute_input": "2025-02-04T11:58:14.726823Z",
     "iopub.status.busy": "2025-02-04T11:58:14.726503Z",
     "iopub.status.idle": "2025-02-04T11:58:14.731188Z",
     "shell.execute_reply": "2025-02-04T11:58:14.730112Z",
     "shell.execute_reply.started": "2025-02-04T11:58:14.726799Z"
    }
   },
   "outputs": [],
   "source": [
    "import sys\n",
    "sys.path.append('/kaggle/working/SiamMask/experiments/siammask_sharp')"
   ]
  },
  {
   "cell_type": "code",
   "execution_count": 6,
   "metadata": {
    "execution": {
     "iopub.execute_input": "2025-02-04T11:58:23.514269Z",
     "iopub.status.busy": "2025-02-04T11:58:23.513893Z",
     "iopub.status.idle": "2025-02-04T11:58:28.058628Z",
     "shell.execute_reply": "2025-02-04T11:58:28.057633Z",
     "shell.execute_reply.started": "2025-02-04T11:58:23.514235Z"
    }
   },
   "outputs": [
    {
     "name": "stderr",
     "output_type": "stream",
     "text": [
      "/kaggle/working/SiamMask/utils/load_helper.py:36: FutureWarning: You are using `torch.load` with `weights_only=False` (the current default value), which uses the default pickle module implicitly. It is possible to construct malicious pickle data which will execute arbitrary code during unpickling (See https://github.com/pytorch/pytorch/blob/main/SECURITY.md#untrusted-models for more details). In a future release, the default value for `weights_only` will be flipped to `True`. This limits the functions that could be executed during unpickling. Arbitrary objects will no longer be allowed to be loaded via this mode unless they are explicitly allowlisted by the user via `torch.serialization.add_safe_globals`. We recommend you start setting `weights_only=True` for any use case where you don't have full control of the loaded file. Please open an issue on GitHub for any issues related to this experimental feature.\n",
      "  pretrained_dict = torch.load(pretrained_path, map_location=lambda storage, loc: storage.cuda(device))\n"
     ]
    },
    {
     "data": {
      "text/plain": [
       "Custom(\n",
       "  (upSample): UpsamplingBilinear2d(size=[127, 127], mode='bilinear')\n",
       "  (features): ResDown(\n",
       "    (features): ResNet(\n",
       "      (conv1): Conv2d(3, 64, kernel_size=(7, 7), stride=(2, 2), bias=False)\n",
       "      (bn1): BatchNorm2d(64, eps=1e-05, momentum=0.1, affine=True, track_running_stats=True)\n",
       "      (relu): ReLU(inplace=True)\n",
       "      (maxpool): MaxPool2d(kernel_size=3, stride=2, padding=1, dilation=1, ceil_mode=False)\n",
       "      (layer1): Sequential(\n",
       "        (0): Bottleneck(\n",
       "          (conv1): Conv2d(64, 64, kernel_size=(1, 1), stride=(1, 1), bias=False)\n",
       "          (bn1): BatchNorm2d(64, eps=1e-05, momentum=0.1, affine=True, track_running_stats=True)\n",
       "          (conv2): Conv2d(64, 64, kernel_size=(3, 3), stride=(1, 1), padding=(1, 1), bias=False)\n",
       "          (bn2): BatchNorm2d(64, eps=1e-05, momentum=0.1, affine=True, track_running_stats=True)\n",
       "          (conv3): Conv2d(64, 256, kernel_size=(1, 1), stride=(1, 1), bias=False)\n",
       "          (bn3): BatchNorm2d(256, eps=1e-05, momentum=0.1, affine=True, track_running_stats=True)\n",
       "          (relu): ReLU(inplace=True)\n",
       "          (downsample): Sequential(\n",
       "            (0): Conv2d(64, 256, kernel_size=(1, 1), stride=(1, 1), bias=False)\n",
       "            (1): BatchNorm2d(256, eps=1e-05, momentum=0.1, affine=True, track_running_stats=True)\n",
       "          )\n",
       "        )\n",
       "        (1): Bottleneck(\n",
       "          (conv1): Conv2d(256, 64, kernel_size=(1, 1), stride=(1, 1), bias=False)\n",
       "          (bn1): BatchNorm2d(64, eps=1e-05, momentum=0.1, affine=True, track_running_stats=True)\n",
       "          (conv2): Conv2d(64, 64, kernel_size=(3, 3), stride=(1, 1), padding=(1, 1), bias=False)\n",
       "          (bn2): BatchNorm2d(64, eps=1e-05, momentum=0.1, affine=True, track_running_stats=True)\n",
       "          (conv3): Conv2d(64, 256, kernel_size=(1, 1), stride=(1, 1), bias=False)\n",
       "          (bn3): BatchNorm2d(256, eps=1e-05, momentum=0.1, affine=True, track_running_stats=True)\n",
       "          (relu): ReLU(inplace=True)\n",
       "        )\n",
       "        (2): Bottleneck(\n",
       "          (conv1): Conv2d(256, 64, kernel_size=(1, 1), stride=(1, 1), bias=False)\n",
       "          (bn1): BatchNorm2d(64, eps=1e-05, momentum=0.1, affine=True, track_running_stats=True)\n",
       "          (conv2): Conv2d(64, 64, kernel_size=(3, 3), stride=(1, 1), padding=(1, 1), bias=False)\n",
       "          (bn2): BatchNorm2d(64, eps=1e-05, momentum=0.1, affine=True, track_running_stats=True)\n",
       "          (conv3): Conv2d(64, 256, kernel_size=(1, 1), stride=(1, 1), bias=False)\n",
       "          (bn3): BatchNorm2d(256, eps=1e-05, momentum=0.1, affine=True, track_running_stats=True)\n",
       "          (relu): ReLU(inplace=True)\n",
       "        )\n",
       "      )\n",
       "      (layer2): Sequential(\n",
       "        (0): Bottleneck(\n",
       "          (conv1): Conv2d(256, 128, kernel_size=(1, 1), stride=(1, 1), bias=False)\n",
       "          (bn1): BatchNorm2d(128, eps=1e-05, momentum=0.1, affine=True, track_running_stats=True)\n",
       "          (conv2): Conv2d(128, 128, kernel_size=(3, 3), stride=(2, 2), bias=False)\n",
       "          (bn2): BatchNorm2d(128, eps=1e-05, momentum=0.1, affine=True, track_running_stats=True)\n",
       "          (conv3): Conv2d(128, 512, kernel_size=(1, 1), stride=(1, 1), bias=False)\n",
       "          (bn3): BatchNorm2d(512, eps=1e-05, momentum=0.1, affine=True, track_running_stats=True)\n",
       "          (relu): ReLU(inplace=True)\n",
       "          (downsample): Sequential(\n",
       "            (0): Conv2d(256, 512, kernel_size=(3, 3), stride=(2, 2), bias=False)\n",
       "            (1): BatchNorm2d(512, eps=1e-05, momentum=0.1, affine=True, track_running_stats=True)\n",
       "          )\n",
       "        )\n",
       "        (1): Bottleneck(\n",
       "          (conv1): Conv2d(512, 128, kernel_size=(1, 1), stride=(1, 1), bias=False)\n",
       "          (bn1): BatchNorm2d(128, eps=1e-05, momentum=0.1, affine=True, track_running_stats=True)\n",
       "          (conv2): Conv2d(128, 128, kernel_size=(3, 3), stride=(1, 1), padding=(1, 1), bias=False)\n",
       "          (bn2): BatchNorm2d(128, eps=1e-05, momentum=0.1, affine=True, track_running_stats=True)\n",
       "          (conv3): Conv2d(128, 512, kernel_size=(1, 1), stride=(1, 1), bias=False)\n",
       "          (bn3): BatchNorm2d(512, eps=1e-05, momentum=0.1, affine=True, track_running_stats=True)\n",
       "          (relu): ReLU(inplace=True)\n",
       "        )\n",
       "        (2): Bottleneck(\n",
       "          (conv1): Conv2d(512, 128, kernel_size=(1, 1), stride=(1, 1), bias=False)\n",
       "          (bn1): BatchNorm2d(128, eps=1e-05, momentum=0.1, affine=True, track_running_stats=True)\n",
       "          (conv2): Conv2d(128, 128, kernel_size=(3, 3), stride=(1, 1), padding=(1, 1), bias=False)\n",
       "          (bn2): BatchNorm2d(128, eps=1e-05, momentum=0.1, affine=True, track_running_stats=True)\n",
       "          (conv3): Conv2d(128, 512, kernel_size=(1, 1), stride=(1, 1), bias=False)\n",
       "          (bn3): BatchNorm2d(512, eps=1e-05, momentum=0.1, affine=True, track_running_stats=True)\n",
       "          (relu): ReLU(inplace=True)\n",
       "        )\n",
       "        (3): Bottleneck(\n",
       "          (conv1): Conv2d(512, 128, kernel_size=(1, 1), stride=(1, 1), bias=False)\n",
       "          (bn1): BatchNorm2d(128, eps=1e-05, momentum=0.1, affine=True, track_running_stats=True)\n",
       "          (conv2): Conv2d(128, 128, kernel_size=(3, 3), stride=(1, 1), padding=(1, 1), bias=False)\n",
       "          (bn2): BatchNorm2d(128, eps=1e-05, momentum=0.1, affine=True, track_running_stats=True)\n",
       "          (conv3): Conv2d(128, 512, kernel_size=(1, 1), stride=(1, 1), bias=False)\n",
       "          (bn3): BatchNorm2d(512, eps=1e-05, momentum=0.1, affine=True, track_running_stats=True)\n",
       "          (relu): ReLU(inplace=True)\n",
       "        )\n",
       "      )\n",
       "      (layer3): Sequential(\n",
       "        (0): Bottleneck(\n",
       "          (conv1): Conv2d(512, 256, kernel_size=(1, 1), stride=(1, 1), bias=False)\n",
       "          (bn1): BatchNorm2d(256, eps=1e-05, momentum=0.1, affine=True, track_running_stats=True)\n",
       "          (conv2): Conv2d(256, 256, kernel_size=(3, 3), stride=(1, 1), padding=(1, 1), bias=False)\n",
       "          (bn2): BatchNorm2d(256, eps=1e-05, momentum=0.1, affine=True, track_running_stats=True)\n",
       "          (conv3): Conv2d(256, 1024, kernel_size=(1, 1), stride=(1, 1), bias=False)\n",
       "          (bn3): BatchNorm2d(1024, eps=1e-05, momentum=0.1, affine=True, track_running_stats=True)\n",
       "          (relu): ReLU(inplace=True)\n",
       "          (downsample): Sequential(\n",
       "            (0): Conv2d(512, 1024, kernel_size=(3, 3), stride=(1, 1), padding=(1, 1), bias=False)\n",
       "            (1): BatchNorm2d(1024, eps=1e-05, momentum=0.1, affine=True, track_running_stats=True)\n",
       "          )\n",
       "        )\n",
       "        (1): Bottleneck(\n",
       "          (conv1): Conv2d(1024, 256, kernel_size=(1, 1), stride=(1, 1), bias=False)\n",
       "          (bn1): BatchNorm2d(256, eps=1e-05, momentum=0.1, affine=True, track_running_stats=True)\n",
       "          (conv2): Conv2d(256, 256, kernel_size=(3, 3), stride=(1, 1), padding=(2, 2), dilation=(2, 2), bias=False)\n",
       "          (bn2): BatchNorm2d(256, eps=1e-05, momentum=0.1, affine=True, track_running_stats=True)\n",
       "          (conv3): Conv2d(256, 1024, kernel_size=(1, 1), stride=(1, 1), bias=False)\n",
       "          (bn3): BatchNorm2d(1024, eps=1e-05, momentum=0.1, affine=True, track_running_stats=True)\n",
       "          (relu): ReLU(inplace=True)\n",
       "        )\n",
       "        (2): Bottleneck(\n",
       "          (conv1): Conv2d(1024, 256, kernel_size=(1, 1), stride=(1, 1), bias=False)\n",
       "          (bn1): BatchNorm2d(256, eps=1e-05, momentum=0.1, affine=True, track_running_stats=True)\n",
       "          (conv2): Conv2d(256, 256, kernel_size=(3, 3), stride=(1, 1), padding=(2, 2), dilation=(2, 2), bias=False)\n",
       "          (bn2): BatchNorm2d(256, eps=1e-05, momentum=0.1, affine=True, track_running_stats=True)\n",
       "          (conv3): Conv2d(256, 1024, kernel_size=(1, 1), stride=(1, 1), bias=False)\n",
       "          (bn3): BatchNorm2d(1024, eps=1e-05, momentum=0.1, affine=True, track_running_stats=True)\n",
       "          (relu): ReLU(inplace=True)\n",
       "        )\n",
       "        (3): Bottleneck(\n",
       "          (conv1): Conv2d(1024, 256, kernel_size=(1, 1), stride=(1, 1), bias=False)\n",
       "          (bn1): BatchNorm2d(256, eps=1e-05, momentum=0.1, affine=True, track_running_stats=True)\n",
       "          (conv2): Conv2d(256, 256, kernel_size=(3, 3), stride=(1, 1), padding=(2, 2), dilation=(2, 2), bias=False)\n",
       "          (bn2): BatchNorm2d(256, eps=1e-05, momentum=0.1, affine=True, track_running_stats=True)\n",
       "          (conv3): Conv2d(256, 1024, kernel_size=(1, 1), stride=(1, 1), bias=False)\n",
       "          (bn3): BatchNorm2d(1024, eps=1e-05, momentum=0.1, affine=True, track_running_stats=True)\n",
       "          (relu): ReLU(inplace=True)\n",
       "        )\n",
       "        (4): Bottleneck(\n",
       "          (conv1): Conv2d(1024, 256, kernel_size=(1, 1), stride=(1, 1), bias=False)\n",
       "          (bn1): BatchNorm2d(256, eps=1e-05, momentum=0.1, affine=True, track_running_stats=True)\n",
       "          (conv2): Conv2d(256, 256, kernel_size=(3, 3), stride=(1, 1), padding=(2, 2), dilation=(2, 2), bias=False)\n",
       "          (bn2): BatchNorm2d(256, eps=1e-05, momentum=0.1, affine=True, track_running_stats=True)\n",
       "          (conv3): Conv2d(256, 1024, kernel_size=(1, 1), stride=(1, 1), bias=False)\n",
       "          (bn3): BatchNorm2d(1024, eps=1e-05, momentum=0.1, affine=True, track_running_stats=True)\n",
       "          (relu): ReLU(inplace=True)\n",
       "        )\n",
       "        (5): Bottleneck(\n",
       "          (conv1): Conv2d(1024, 256, kernel_size=(1, 1), stride=(1, 1), bias=False)\n",
       "          (bn1): BatchNorm2d(256, eps=1e-05, momentum=0.1, affine=True, track_running_stats=True)\n",
       "          (conv2): Conv2d(256, 256, kernel_size=(3, 3), stride=(1, 1), padding=(2, 2), dilation=(2, 2), bias=False)\n",
       "          (bn2): BatchNorm2d(256, eps=1e-05, momentum=0.1, affine=True, track_running_stats=True)\n",
       "          (conv3): Conv2d(256, 1024, kernel_size=(1, 1), stride=(1, 1), bias=False)\n",
       "          (bn3): BatchNorm2d(1024, eps=1e-05, momentum=0.1, affine=True, track_running_stats=True)\n",
       "          (relu): ReLU(inplace=True)\n",
       "        )\n",
       "      )\n",
       "    )\n",
       "    (downsample): ResDownS(\n",
       "      (downsample): Sequential(\n",
       "        (0): Conv2d(1024, 256, kernel_size=(1, 1), stride=(1, 1), bias=False)\n",
       "        (1): BatchNorm2d(256, eps=1e-05, momentum=0.1, affine=True, track_running_stats=True)\n",
       "      )\n",
       "    )\n",
       "  )\n",
       "  (rpn_model): UP(\n",
       "    (cls): DepthCorr(\n",
       "      (conv_kernel): Sequential(\n",
       "        (0): Conv2d(256, 256, kernel_size=(3, 3), stride=(1, 1), bias=False)\n",
       "        (1): BatchNorm2d(256, eps=1e-05, momentum=0.1, affine=True, track_running_stats=True)\n",
       "        (2): ReLU(inplace=True)\n",
       "      )\n",
       "      (conv_search): Sequential(\n",
       "        (0): Conv2d(256, 256, kernel_size=(3, 3), stride=(1, 1), bias=False)\n",
       "        (1): BatchNorm2d(256, eps=1e-05, momentum=0.1, affine=True, track_running_stats=True)\n",
       "        (2): ReLU(inplace=True)\n",
       "      )\n",
       "      (head): Sequential(\n",
       "        (0): Conv2d(256, 256, kernel_size=(1, 1), stride=(1, 1), bias=False)\n",
       "        (1): BatchNorm2d(256, eps=1e-05, momentum=0.1, affine=True, track_running_stats=True)\n",
       "        (2): ReLU(inplace=True)\n",
       "        (3): Conv2d(256, 10, kernel_size=(1, 1), stride=(1, 1))\n",
       "      )\n",
       "    )\n",
       "    (loc): DepthCorr(\n",
       "      (conv_kernel): Sequential(\n",
       "        (0): Conv2d(256, 256, kernel_size=(3, 3), stride=(1, 1), bias=False)\n",
       "        (1): BatchNorm2d(256, eps=1e-05, momentum=0.1, affine=True, track_running_stats=True)\n",
       "        (2): ReLU(inplace=True)\n",
       "      )\n",
       "      (conv_search): Sequential(\n",
       "        (0): Conv2d(256, 256, kernel_size=(3, 3), stride=(1, 1), bias=False)\n",
       "        (1): BatchNorm2d(256, eps=1e-05, momentum=0.1, affine=True, track_running_stats=True)\n",
       "        (2): ReLU(inplace=True)\n",
       "      )\n",
       "      (head): Sequential(\n",
       "        (0): Conv2d(256, 256, kernel_size=(1, 1), stride=(1, 1), bias=False)\n",
       "        (1): BatchNorm2d(256, eps=1e-05, momentum=0.1, affine=True, track_running_stats=True)\n",
       "        (2): ReLU(inplace=True)\n",
       "        (3): Conv2d(256, 20, kernel_size=(1, 1), stride=(1, 1))\n",
       "      )\n",
       "    )\n",
       "  )\n",
       "  (mask_model): MaskCorr(\n",
       "    (mask): DepthCorr(\n",
       "      (conv_kernel): Sequential(\n",
       "        (0): Conv2d(256, 256, kernel_size=(3, 3), stride=(1, 1), bias=False)\n",
       "        (1): BatchNorm2d(256, eps=1e-05, momentum=0.1, affine=True, track_running_stats=True)\n",
       "        (2): ReLU(inplace=True)\n",
       "      )\n",
       "      (conv_search): Sequential(\n",
       "        (0): Conv2d(256, 256, kernel_size=(3, 3), stride=(1, 1), bias=False)\n",
       "        (1): BatchNorm2d(256, eps=1e-05, momentum=0.1, affine=True, track_running_stats=True)\n",
       "        (2): ReLU(inplace=True)\n",
       "      )\n",
       "      (head): Sequential(\n",
       "        (0): Conv2d(256, 256, kernel_size=(1, 1), stride=(1, 1), bias=False)\n",
       "        (1): BatchNorm2d(256, eps=1e-05, momentum=0.1, affine=True, track_running_stats=True)\n",
       "        (2): ReLU(inplace=True)\n",
       "        (3): Conv2d(256, 3969, kernel_size=(1, 1), stride=(1, 1))\n",
       "      )\n",
       "    )\n",
       "  )\n",
       "  (refine_model): Refine(\n",
       "    (v0): Sequential(\n",
       "      (0): Conv2d(64, 16, kernel_size=(3, 3), stride=(1, 1), padding=(1, 1))\n",
       "      (1): ReLU()\n",
       "      (2): Conv2d(16, 4, kernel_size=(3, 3), stride=(1, 1), padding=(1, 1))\n",
       "      (3): ReLU()\n",
       "    )\n",
       "    (v1): Sequential(\n",
       "      (0): Conv2d(256, 64, kernel_size=(3, 3), stride=(1, 1), padding=(1, 1))\n",
       "      (1): ReLU()\n",
       "      (2): Conv2d(64, 16, kernel_size=(3, 3), stride=(1, 1), padding=(1, 1))\n",
       "      (3): ReLU()\n",
       "    )\n",
       "    (v2): Sequential(\n",
       "      (0): Conv2d(512, 128, kernel_size=(3, 3), stride=(1, 1), padding=(1, 1))\n",
       "      (1): ReLU()\n",
       "      (2): Conv2d(128, 32, kernel_size=(3, 3), stride=(1, 1), padding=(1, 1))\n",
       "      (3): ReLU()\n",
       "    )\n",
       "    (h2): Sequential(\n",
       "      (0): Conv2d(32, 32, kernel_size=(3, 3), stride=(1, 1), padding=(1, 1))\n",
       "      (1): ReLU()\n",
       "      (2): Conv2d(32, 32, kernel_size=(3, 3), stride=(1, 1), padding=(1, 1))\n",
       "      (3): ReLU()\n",
       "    )\n",
       "    (h1): Sequential(\n",
       "      (0): Conv2d(16, 16, kernel_size=(3, 3), stride=(1, 1), padding=(1, 1))\n",
       "      (1): ReLU()\n",
       "      (2): Conv2d(16, 16, kernel_size=(3, 3), stride=(1, 1), padding=(1, 1))\n",
       "      (3): ReLU()\n",
       "    )\n",
       "    (h0): Sequential(\n",
       "      (0): Conv2d(4, 4, kernel_size=(3, 3), stride=(1, 1), padding=(1, 1))\n",
       "      (1): ReLU()\n",
       "      (2): Conv2d(4, 4, kernel_size=(3, 3), stride=(1, 1), padding=(1, 1))\n",
       "      (3): ReLU()\n",
       "    )\n",
       "    (deconv): ConvTranspose2d(256, 32, kernel_size=(15, 15), stride=(15, 15))\n",
       "    (post0): Conv2d(32, 16, kernel_size=(3, 3), stride=(1, 1), padding=(1, 1))\n",
       "    (post1): Conv2d(16, 4, kernel_size=(3, 3), stride=(1, 1), padding=(1, 1))\n",
       "    (post2): Conv2d(4, 1, kernel_size=(3, 3), stride=(1, 1), padding=(1, 1))\n",
       "  )\n",
       ")"
      ]
     },
     "execution_count": 6,
     "metadata": {},
     "output_type": "execute_result"
    }
   ],
   "source": [
    "import torch\n",
    "import cv2\n",
    "import numpy as np\n",
    "from models.siammask import SiamMask\n",
    "from experiments.siammask_sharp.custom import Custom\n",
    "\n",
    "\n",
    "from utils.load_helper import load_pretrain\n",
    "from utils.config_helper import load_config\n",
    "\n",
    "\n",
    "class MyArgs:\n",
    "    config = '/kaggle/working/SiamMask/experiments/siammask_sharp/config_davis.json'\n",
    "\n",
    "cfg = load_config(MyArgs)\n",
    "\n",
    "siammask = Custom(anchors=cfg['anchors'])\n",
    "siammask = load_pretrain(siammask, \"/kaggle/working/SiamMask/pretrained/SiamMask_DAVIS.pth\")\n",
    "siammask.eval().cuda()"
   ]
  },
  {
   "cell_type": "code",
   "execution_count": 7,
   "metadata": {
    "execution": {
     "iopub.execute_input": "2025-02-04T11:58:37.204256Z",
     "iopub.status.busy": "2025-02-04T11:58:37.203765Z",
     "iopub.status.idle": "2025-02-04T11:58:37.237096Z",
     "shell.execute_reply": "2025-02-04T11:58:37.236272Z",
     "shell.execute_reply.started": "2025-02-04T11:58:37.204217Z"
    }
   },
   "outputs": [
    {
     "name": "stdout",
     "output_type": "stream",
     "text": [
      "Total frames found: 888\n"
     ]
    }
   ],
   "source": [
    "import os\n",
    "import cv2\n",
    "\n",
    "frames_folder = \"/kaggle/input/sportsmot/sportsmot_publish/dataset/val/v_i2_L4qquVg0_c006/img1\"\n",
    "\n",
    "frame_files = sorted([os.path.join(frames_folder, f) for f in os.listdir(frames_folder) if f.endswith(\".jpg\")])\n",
    "\n",
    "print(f\"Total frames found: {len(frame_files)}\")"
   ]
  },
  {
   "cell_type": "code",
   "execution_count": 27,
   "metadata": {
    "execution": {
     "iopub.execute_input": "2025-02-04T12:10:54.175279Z",
     "iopub.status.busy": "2025-02-04T12:10:54.174837Z",
     "iopub.status.idle": "2025-02-04T12:11:39.035734Z",
     "shell.execute_reply": "2025-02-04T12:11:39.034768Z",
     "shell.execute_reply.started": "2025-02-04T12:10:54.175246Z"
    }
   },
   "outputs": [
    {
     "name": "stderr",
     "output_type": "stream",
     "text": [
      "/kaggle/working/SiamMask/experiments/siammask_sharp/custom.py:150: UserWarning: `nn.functional.upsample` is deprecated. Use `nn.functional.interpolate` instead.\n",
      "  out = self.post0(F.upsample(self.h2(out) + self.v2(p2), size=(31, 31)))\n",
      "/kaggle/working/SiamMask/experiments/siammask_sharp/custom.py:151: UserWarning: `nn.functional.upsample` is deprecated. Use `nn.functional.interpolate` instead.\n",
      "  out = self.post1(F.upsample(self.h1(out) + self.v1(p1), size=(61, 61)))\n",
      "/kaggle/working/SiamMask/experiments/siammask_sharp/custom.py:152: UserWarning: `nn.functional.upsample` is deprecated. Use `nn.functional.interpolate` instead.\n",
      "  out = self.post2(F.upsample(self.h0(out) + self.v0(p0), size=(127, 127)))\n"
     ]
    },
    {
     "name": "stdout",
     "output_type": "stream",
     "text": [
      "Tracking complete.\n"
     ]
    }
   ],
   "source": [
    "from tools.test import *\n",
    "\n",
    "device = 'cuda'\n",
    "\n",
    "first_frame = cv2.imread(frame_files[0])\n",
    "\n",
    "output_video_path = \"tracking_output.mp4\"\n",
    "frame_size = cv2.imread(frame_files[0]).shape[1::-1]\n",
    "\n",
    "video_writer = cv2.VideoWriter(output_video_path, cv2.VideoWriter_fourcc(*'mp4v'), 25, frame_size)\n",
    "\n",
    "obj_id = 14\n",
    "x, y, w, h = 782, 549, 39, 106\n",
    "\n",
    "target_pos = np.array([x + w / 2, y + h / 2])\n",
    "target_sz = np.array([w, h])\n",
    "state = siamese_init(first_frame, target_pos, target_sz, siammask, cfg['hp'], device=device)\n",
    "\n",
    "tracking_results = []\n",
    "\n",
    "for i, frame_path in enumerate(frame_files):\n",
    "    frame = cv2.imread(frame_path)\n",
    "\n",
    "    state = siamese_track(state, frame, mask_enable=True, refine_enable=True, device=device)\n",
    "\n",
    "    w, h = state['target_sz']\n",
    "    x, y = state['target_pos']\n",
    "    x -= w/2\n",
    "    y -= h/2\n",
    "    tracking_results.append([x, y, w, h])\n",
    "    \n",
    "    x, y, w, h = map(int, (x, y, w, h))\n",
    "    cv2.rectangle(frame, (x, y), (x + w, y + h), (0, 255, 0), 2)\n",
    "\n",
    "    video_writer.write(frame)\n",
    "\n",
    "\n",
    "\n",
    "video_writer.release()\n",
    "print(\"Tracking complete.\")"
   ]
  },
  {
   "cell_type": "code",
   "execution_count": 28,
   "metadata": {
    "execution": {
     "iopub.execute_input": "2025-02-04T12:11:49.685815Z",
     "iopub.status.busy": "2025-02-04T12:11:49.685460Z",
     "iopub.status.idle": "2025-02-04T12:11:49.694319Z",
     "shell.execute_reply": "2025-02-04T12:11:49.693170Z",
     "shell.execute_reply.started": "2025-02-04T12:11:49.685789Z"
    }
   },
   "outputs": [],
   "source": [
    "import numpy as np\n",
    "import cv2\n",
    "import pandas as pd\n",
    "import time\n",
    "\n",
    "def iou(boxA, boxB):\n",
    "    xA = max(boxA[0], boxB[0])\n",
    "    yA = max(boxA[1], boxB[1])\n",
    "    xB = min(boxA[0] + boxA[2], boxB[0] + boxB[2])\n",
    "    yB = min(boxA[1] + boxA[3], boxB[1] + boxB[3])\n",
    "\n",
    "    interArea = max(0, xB - xA) * max(0, yB - yA)\n",
    "    boxAArea = boxA[2] * boxA[3]\n",
    "    boxBArea = boxB[2] * boxB[3]\n",
    "\n",
    "    iou = interArea / float(boxAArea + boxBArea - interArea)\n",
    "    return iou\n",
    "\n",
    "def precision(pred_boxes, gt_boxes, threshold=20):\n",
    "    distances = []\n",
    "    for pred, gt in zip(pred_boxes, gt_boxes):\n",
    "        pred_center = (pred[0] + pred[2] / 2, pred[1] + pred[3] / 2)\n",
    "        gt_center = (gt[0] + gt[2] / 2, gt[1] + gt[3] / 2)\n",
    "        dist = np.linalg.norm(np.array(pred_center) - np.array(gt_center))\n",
    "        distances.append(dist)\n",
    "    \n",
    "    return np.mean(np.array(distances) < threshold)\n",
    "\n",
    "def success_rate(pred_boxes, gt_boxes, iou_threshold=0.5):\n",
    "    ious = [iou(pred, gt) for pred, gt in zip(pred_boxes, gt_boxes)]\n",
    "    return np.mean(np.array(ious) > iou_threshold)\n"
   ]
  },
  {
   "cell_type": "code",
   "execution_count": 29,
   "metadata": {
    "execution": {
     "iopub.execute_input": "2025-02-04T12:11:51.079351Z",
     "iopub.status.busy": "2025-02-04T12:11:51.078899Z",
     "iopub.status.idle": "2025-02-04T12:11:51.084821Z",
     "shell.execute_reply": "2025-02-04T12:11:51.083820Z",
     "shell.execute_reply.started": "2025-02-04T12:11:51.079319Z"
    }
   },
   "outputs": [],
   "source": [
    "def load_mot_gt(gt_file, obj_id):\n",
    "    df = pd.read_csv(gt_file, header=None)\n",
    "    df.columns = [\"frame\", \"id\", \"x\", \"y\", \"w\", \"h\", \"conf\", \"class\", \"visibility\"]\n",
    "\n",
    "    df = df[df[\"id\"] == obj_id]\n",
    "\n",
    "    df = df.sort_values(by=\"frame\")\n",
    "\n",
    "    gt_boxes = df[[\"x\", \"y\", \"w\", \"h\"]].values.tolist() \n",
    "    return gt_boxes\n"
   ]
  },
  {
   "cell_type": "code",
   "execution_count": 30,
   "metadata": {
    "execution": {
     "iopub.execute_input": "2025-02-04T12:11:53.079916Z",
     "iopub.status.busy": "2025-02-04T12:11:53.079594Z",
     "iopub.status.idle": "2025-02-04T12:11:53.096863Z",
     "shell.execute_reply": "2025-02-04T12:11:53.095730Z",
     "shell.execute_reply.started": "2025-02-04T12:11:53.079892Z"
    }
   },
   "outputs": [],
   "source": [
    "gt_boxes = load_mot_gt(\"/kaggle/input/sportsmot/sportsmot_publish/dataset/val/v_i2_L4qquVg0_c006/gt/gt.txt\", obj_id)"
   ]
  },
  {
   "cell_type": "code",
   "execution_count": 31,
   "metadata": {
    "execution": {
     "iopub.execute_input": "2025-02-04T12:11:54.353033Z",
     "iopub.status.busy": "2025-02-04T12:11:54.352708Z",
     "iopub.status.idle": "2025-02-04T12:11:54.358056Z",
     "shell.execute_reply": "2025-02-04T12:11:54.357022Z",
     "shell.execute_reply.started": "2025-02-04T12:11:54.353008Z"
    }
   },
   "outputs": [],
   "source": [
    "def evaluate_sot(pred_boxes, gt_boxes):\n",
    "    min_length = min(len(pred_boxes), len(gt_boxes))\n",
    "    pred_boxes = pred_boxes[:min_length]  # Align lengths\n",
    "    gt_boxes = gt_boxes[:min_length]\n",
    "\n",
    "    success = success_rate(pred_boxes, gt_boxes)\n",
    "    prec = precision(pred_boxes, gt_boxes)\n",
    "    \n",
    "    print(f\"Success Rate (IoU Overlap): {success:.2f}\")\n",
    "    print(f\"Precision (Center Distance < 20px): {prec:.2f}\")\n",
    "\n",
    "    return success, prec\n"
   ]
  },
  {
   "cell_type": "code",
   "execution_count": 32,
   "metadata": {
    "execution": {
     "iopub.execute_input": "2025-02-04T12:11:55.164386Z",
     "iopub.status.busy": "2025-02-04T12:11:55.163960Z",
     "iopub.status.idle": "2025-02-04T12:11:55.196686Z",
     "shell.execute_reply": "2025-02-04T12:11:55.195588Z",
     "shell.execute_reply.started": "2025-02-04T12:11:55.164354Z"
    }
   },
   "outputs": [
    {
     "name": "stdout",
     "output_type": "stream",
     "text": [
      "Success Rate (IoU Overlap): 0.94\n",
      "Precision (Center Distance < 20px): 1.00\n"
     ]
    },
    {
     "data": {
      "text/plain": [
       "(0.9384993849938499, 0.995079950799508)"
      ]
     },
     "execution_count": 32,
     "metadata": {},
     "output_type": "execute_result"
    }
   ],
   "source": [
    "evaluate_sot(tracking_results, gt_boxes)"
   ]
  },
  {
   "cell_type": "code",
   "execution_count": 33,
   "metadata": {
    "execution": {
     "iopub.execute_input": "2025-02-04T12:15:35.511343Z",
     "iopub.status.busy": "2025-02-04T12:15:35.510951Z",
     "iopub.status.idle": "2025-02-04T12:15:35.848784Z",
     "shell.execute_reply": "2025-02-04T12:15:35.847691Z",
     "shell.execute_reply.started": "2025-02-04T12:15:35.511315Z"
    }
   },
   "outputs": [
    {
     "data": {
      "image/png": "[encoded data removed]",
      "text/plain": [
       "<Figure size 1000x600 with 2 Axes>"
      ]
     },
     "metadata": {},
     "output_type": "display_data"
    }
   ],
   "source": [
    "import numpy as np\n",
    "import cv2\n",
    "import matplotlib.pyplot as plt\n",
    "from scipy.ndimage import gaussian_filter\n",
    "\n",
    "def generate_heatmap(pred_boxes, frame_size, point_radius=20):\n",
    "    H, W = frame_size\n",
    "    heatmap = np.zeros((H, W), dtype=np.float32)\n",
    "\n",
    "    for box in pred_boxes:\n",
    "        x, y, w, h = box\n",
    "        center_x, center_y = int(x + w / 2), int(y + h / 2)\n",
    "\n",
    "        if 0 <= center_x < W and 0 <= center_y < H:\n",
    "            x_min, x_max = max(0, center_x - point_radius), min(W, center_x + point_radius)\n",
    "            y_min, y_max = max(0, center_y - point_radius), min(H, center_y + point_radius)\n",
    "\n",
    "            heatmap[y_min:y_max, x_min:x_max] += 1  \n",
    "\n",
    "\n",
    "    heatmap /= heatmap.max()\n",
    "\n",
    "    return heatmap\n",
    "\n",
    "def visualize_heatmap(heatmap):\n",
    "    plt.figure(figsize=(10, 6))\n",
    "    plt.imshow(heatmap, cmap='jet', interpolation='nearest')\n",
    "    plt.colorbar(label=\"Tracking Intensity\")\n",
    "    plt.title(\"Object Tracking Heatmap\")\n",
    "    plt.xlabel(\"X-axis (Width)\")\n",
    "    plt.ylabel(\"Y-axis (Height)\")\n",
    "    plt.show()\n",
    "\n",
    "heatmap = generate_heatmap(tracking_results, (frame_size[1], frame_size[0]))\n",
    "\n",
    "visualize_heatmap(heatmap)"
   ]
  },
  {
   "cell_type": "code",
   "execution_count": 38,
   "metadata": {
    "execution": {
     "iopub.execute_input": "2025-02-04T12:42:07.006321Z",
     "iopub.status.busy": "2025-02-04T12:42:07.005885Z",
     "iopub.status.idle": "2025-02-04T12:47:41.901895Z",
     "shell.execute_reply": "2025-02-04T12:47:41.901056Z",
     "shell.execute_reply.started": "2025-02-04T12:42:07.006290Z"
    }
   },
   "outputs": [
    {
     "name": "stdout",
     "output_type": "stream",
     "text": [
      "Processing video: /kaggle/input/sportsmot/sportsmot_publish/dataset/val/v_dw7LOz17Omg_c067\n",
      "Total frames found: 450\n"
     ]
    },
    {
     "name": "stderr",
     "output_type": "stream",
     "text": [
      "/kaggle/working/SiamMask/experiments/siammask_sharp/custom.py:150: UserWarning: `nn.functional.upsample` is deprecated. Use `nn.functional.interpolate` instead.\n",
      "  out = self.post0(F.upsample(self.h2(out) + self.v2(p2), size=(31, 31)))\n",
      "/kaggle/working/SiamMask/experiments/siammask_sharp/custom.py:151: UserWarning: `nn.functional.upsample` is deprecated. Use `nn.functional.interpolate` instead.\n",
      "  out = self.post1(F.upsample(self.h1(out) + self.v1(p1), size=(61, 61)))\n",
      "/kaggle/working/SiamMask/experiments/siammask_sharp/custom.py:152: UserWarning: `nn.functional.upsample` is deprecated. Use `nn.functional.interpolate` instead.\n",
      "  out = self.post2(F.upsample(self.h0(out) + self.v0(p0), size=(127, 127)))\n"
     ]
    },
    {
     "name": "stdout",
     "output_type": "stream",
     "text": [
      "Tracking complete for /kaggle/input/sportsmot/sportsmot_publish/dataset/val/v_dw7LOz17Omg_c067. Output saved as tracking_output_v_dw7LOz17Omg_c067.mp4\n",
      "Success Rate (IoU Overlap): 0.65\n",
      "Precision (Center Distance < 20px): 0.65\n",
      "Processing video: /kaggle/input/sportsmot/sportsmot_publish/dataset/val/v_G-vNjfx1GGc_c004\n",
      "Total frames found: 675\n"
     ]
    },
    {
     "name": "stderr",
     "output_type": "stream",
     "text": [
      "/kaggle/working/SiamMask/experiments/siammask_sharp/custom.py:150: UserWarning: `nn.functional.upsample` is deprecated. Use `nn.functional.interpolate` instead.\n",
      "  out = self.post0(F.upsample(self.h2(out) + self.v2(p2), size=(31, 31)))\n",
      "/kaggle/working/SiamMask/experiments/siammask_sharp/custom.py:151: UserWarning: `nn.functional.upsample` is deprecated. Use `nn.functional.interpolate` instead.\n",
      "  out = self.post1(F.upsample(self.h1(out) + self.v1(p1), size=(61, 61)))\n",
      "/kaggle/working/SiamMask/experiments/siammask_sharp/custom.py:152: UserWarning: `nn.functional.upsample` is deprecated. Use `nn.functional.interpolate` instead.\n",
      "  out = self.post2(F.upsample(self.h0(out) + self.v0(p0), size=(127, 127)))\n"
     ]
    },
    {
     "name": "stdout",
     "output_type": "stream",
     "text": [
      "Tracking complete for /kaggle/input/sportsmot/sportsmot_publish/dataset/val/v_G-vNjfx1GGc_c004. Output saved as tracking_output_v_G-vNjfx1GGc_c004.mp4\n",
      "Success Rate (IoU Overlap): 0.98\n",
      "Precision (Center Distance < 20px): 0.99\n",
      "Processing video: /kaggle/input/sportsmot/sportsmot_publish/dataset/val/v_2QhNRucNC7E_c017\n",
      "Total frames found: 450\n"
     ]
    },
    {
     "name": "stderr",
     "output_type": "stream",
     "text": [
      "/kaggle/working/SiamMask/experiments/siammask_sharp/custom.py:150: UserWarning: `nn.functional.upsample` is deprecated. Use `nn.functional.interpolate` instead.\n",
      "  out = self.post0(F.upsample(self.h2(out) + self.v2(p2), size=(31, 31)))\n",
      "/kaggle/working/SiamMask/experiments/siammask_sharp/custom.py:151: UserWarning: `nn.functional.upsample` is deprecated. Use `nn.functional.interpolate` instead.\n",
      "  out = self.post1(F.upsample(self.h1(out) + self.v1(p1), size=(61, 61)))\n",
      "/kaggle/working/SiamMask/experiments/siammask_sharp/custom.py:152: UserWarning: `nn.functional.upsample` is deprecated. Use `nn.functional.interpolate` instead.\n",
      "  out = self.post2(F.upsample(self.h0(out) + self.v0(p0), size=(127, 127)))\n"
     ]
    },
    {
     "name": "stdout",
     "output_type": "stream",
     "text": [
      "Tracking complete for /kaggle/input/sportsmot/sportsmot_publish/dataset/val/v_2QhNRucNC7E_c017. Output saved as tracking_output_v_2QhNRucNC7E_c017.mp4\n",
      "Success Rate (IoU Overlap): 0.24\n",
      "Precision (Center Distance < 20px): 0.28\n",
      "Processing video: /kaggle/input/sportsmot/sportsmot_publish/dataset/val/v_i2_L4qquVg0_c006\n",
      "Total frames found: 888\n"
     ]
    },
    {
     "name": "stderr",
     "output_type": "stream",
     "text": [
      "/kaggle/working/SiamMask/experiments/siammask_sharp/custom.py:150: UserWarning: `nn.functional.upsample` is deprecated. Use `nn.functional.interpolate` instead.\n",
      "  out = self.post0(F.upsample(self.h2(out) + self.v2(p2), size=(31, 31)))\n",
      "/kaggle/working/SiamMask/experiments/siammask_sharp/custom.py:151: UserWarning: `nn.functional.upsample` is deprecated. Use `nn.functional.interpolate` instead.\n",
      "  out = self.post1(F.upsample(self.h1(out) + self.v1(p1), size=(61, 61)))\n",
      "/kaggle/working/SiamMask/experiments/siammask_sharp/custom.py:152: UserWarning: `nn.functional.upsample` is deprecated. Use `nn.functional.interpolate` instead.\n",
      "  out = self.post2(F.upsample(self.h0(out) + self.v0(p0), size=(127, 127)))\n"
     ]
    },
    {
     "name": "stdout",
     "output_type": "stream",
     "text": [
      "Tracking complete for /kaggle/input/sportsmot/sportsmot_publish/dataset/val/v_i2_L4qquVg0_c006. Output saved as tracking_output_v_i2_L4qquVg0_c006.mp4\n",
      "Success Rate (IoU Overlap): 0.08\n",
      "Precision (Center Distance < 20px): 0.10\n",
      "Processing video: /kaggle/input/sportsmot/sportsmot_publish/dataset/val/v_G-vNjfx1GGc_c601\n",
      "Total frames found: 481\n"
     ]
    },
    {
     "name": "stderr",
     "output_type": "stream",
     "text": [
      "/kaggle/working/SiamMask/experiments/siammask_sharp/custom.py:150: UserWarning: `nn.functional.upsample` is deprecated. Use `nn.functional.interpolate` instead.\n",
      "  out = self.post0(F.upsample(self.h2(out) + self.v2(p2), size=(31, 31)))\n",
      "/kaggle/working/SiamMask/experiments/siammask_sharp/custom.py:151: UserWarning: `nn.functional.upsample` is deprecated. Use `nn.functional.interpolate` instead.\n",
      "  out = self.post1(F.upsample(self.h1(out) + self.v1(p1), size=(61, 61)))\n",
      "/kaggle/working/SiamMask/experiments/siammask_sharp/custom.py:152: UserWarning: `nn.functional.upsample` is deprecated. Use `nn.functional.interpolate` instead.\n",
      "  out = self.post2(F.upsample(self.h0(out) + self.v0(p0), size=(127, 127)))\n"
     ]
    },
    {
     "name": "stdout",
     "output_type": "stream",
     "text": [
      "Tracking complete for /kaggle/input/sportsmot/sportsmot_publish/dataset/val/v_G-vNjfx1GGc_c601. Output saved as tracking_output_v_G-vNjfx1GGc_c601.mp4\n",
      "Success Rate (IoU Overlap): 0.71\n",
      "Precision (Center Distance < 20px): 0.71\n",
      "Processing video: /kaggle/input/sportsmot/sportsmot_publish/dataset/val/v_G-vNjfx1GGc_c600\n",
      "Total frames found: 500\n"
     ]
    },
    {
     "name": "stderr",
     "output_type": "stream",
     "text": [
      "/kaggle/working/SiamMask/experiments/siammask_sharp/custom.py:150: UserWarning: `nn.functional.upsample` is deprecated. Use `nn.functional.interpolate` instead.\n",
      "  out = self.post0(F.upsample(self.h2(out) + self.v2(p2), size=(31, 31)))\n",
      "/kaggle/working/SiamMask/experiments/siammask_sharp/custom.py:151: UserWarning: `nn.functional.upsample` is deprecated. Use `nn.functional.interpolate` instead.\n",
      "  out = self.post1(F.upsample(self.h1(out) + self.v1(p1), size=(61, 61)))\n",
      "/kaggle/working/SiamMask/experiments/siammask_sharp/custom.py:152: UserWarning: `nn.functional.upsample` is deprecated. Use `nn.functional.interpolate` instead.\n",
      "  out = self.post2(F.upsample(self.h0(out) + self.v0(p0), size=(127, 127)))\n"
     ]
    },
    {
     "name": "stdout",
     "output_type": "stream",
     "text": [
      "Tracking complete for /kaggle/input/sportsmot/sportsmot_publish/dataset/val/v_G-vNjfx1GGc_c600. Output saved as tracking_output_v_G-vNjfx1GGc_c600.mp4\n",
      "Success Rate (IoU Overlap): 0.11\n",
      "Precision (Center Distance < 20px): 0.14\n",
      "Processing video: /kaggle/input/sportsmot/sportsmot_publish/dataset/val/v_dw7LOz17Omg_c053\n",
      "Total frames found: 550\n"
     ]
    },
    {
     "name": "stderr",
     "output_type": "stream",
     "text": [
      "/kaggle/working/SiamMask/experiments/siammask_sharp/custom.py:150: UserWarning: `nn.functional.upsample` is deprecated. Use `nn.functional.interpolate` instead.\n",
      "  out = self.post0(F.upsample(self.h2(out) + self.v2(p2), size=(31, 31)))\n",
      "/kaggle/working/SiamMask/experiments/siammask_sharp/custom.py:151: UserWarning: `nn.functional.upsample` is deprecated. Use `nn.functional.interpolate` instead.\n",
      "  out = self.post1(F.upsample(self.h1(out) + self.v1(p1), size=(61, 61)))\n",
      "/kaggle/working/SiamMask/experiments/siammask_sharp/custom.py:152: UserWarning: `nn.functional.upsample` is deprecated. Use `nn.functional.interpolate` instead.\n",
      "  out = self.post2(F.upsample(self.h0(out) + self.v0(p0), size=(127, 127)))\n"
     ]
    },
    {
     "name": "stdout",
     "output_type": "stream",
     "text": [
      "Tracking complete for /kaggle/input/sportsmot/sportsmot_publish/dataset/val/v_dw7LOz17Omg_c053. Output saved as tracking_output_v_dw7LOz17Omg_c053.mp4\n",
      "Success Rate (IoU Overlap): 0.20\n",
      "Precision (Center Distance < 20px): 0.21\n",
      "Processing video: /kaggle/input/sportsmot/sportsmot_publish/dataset/val/v_G-vNjfx1GGc_c008\n",
      "Total frames found: 480\n"
     ]
    },
    {
     "name": "stderr",
     "output_type": "stream",
     "text": [
      "/kaggle/working/SiamMask/experiments/siammask_sharp/custom.py:150: UserWarning: `nn.functional.upsample` is deprecated. Use `nn.functional.interpolate` instead.\n",
      "  out = self.post0(F.upsample(self.h2(out) + self.v2(p2), size=(31, 31)))\n",
      "/kaggle/working/SiamMask/experiments/siammask_sharp/custom.py:151: UserWarning: `nn.functional.upsample` is deprecated. Use `nn.functional.interpolate` instead.\n",
      "  out = self.post1(F.upsample(self.h1(out) + self.v1(p1), size=(61, 61)))\n",
      "/kaggle/working/SiamMask/experiments/siammask_sharp/custom.py:152: UserWarning: `nn.functional.upsample` is deprecated. Use `nn.functional.interpolate` instead.\n",
      "  out = self.post2(F.upsample(self.h0(out) + self.v0(p0), size=(127, 127)))\n"
     ]
    },
    {
     "name": "stdout",
     "output_type": "stream",
     "text": [
      "Tracking complete for /kaggle/input/sportsmot/sportsmot_publish/dataset/val/v_G-vNjfx1GGc_c008. Output saved as tracking_output_v_G-vNjfx1GGc_c008.mp4\n",
      "Success Rate (IoU Overlap): 0.29\n",
      "Precision (Center Distance < 20px): 0.29\n",
      "Processing video: /kaggle/input/sportsmot/sportsmot_publish/dataset/val/v_ITo3sCnpw_k_c007\n",
      "Total frames found: 701\n"
     ]
    },
    {
     "name": "stderr",
     "output_type": "stream",
     "text": [
      "/kaggle/working/SiamMask/experiments/siammask_sharp/custom.py:150: UserWarning: `nn.functional.upsample` is deprecated. Use `nn.functional.interpolate` instead.\n",
      "  out = self.post0(F.upsample(self.h2(out) + self.v2(p2), size=(31, 31)))\n",
      "/kaggle/working/SiamMask/experiments/siammask_sharp/custom.py:151: UserWarning: `nn.functional.upsample` is deprecated. Use `nn.functional.interpolate` instead.\n",
      "  out = self.post1(F.upsample(self.h1(out) + self.v1(p1), size=(61, 61)))\n",
      "/kaggle/working/SiamMask/experiments/siammask_sharp/custom.py:152: UserWarning: `nn.functional.upsample` is deprecated. Use `nn.functional.interpolate` instead.\n",
      "  out = self.post2(F.upsample(self.h0(out) + self.v0(p0), size=(127, 127)))\n"
     ]
    },
    {
     "name": "stdout",
     "output_type": "stream",
     "text": [
      "Tracking complete for /kaggle/input/sportsmot/sportsmot_publish/dataset/val/v_ITo3sCnpw_k_c007. Output saved as tracking_output_v_ITo3sCnpw_k_c007.mp4\n",
      "Success Rate (IoU Overlap): 0.16\n",
      "Precision (Center Distance < 20px): 0.17\n",
      "Processing video: /kaggle/input/sportsmot/sportsmot_publish/dataset/val/v_i2_L4qquVg0_c007\n",
      "Total frames found: 451\n"
     ]
    },
    {
     "name": "stderr",
     "output_type": "stream",
     "text": [
      "/kaggle/working/SiamMask/experiments/siammask_sharp/custom.py:150: UserWarning: `nn.functional.upsample` is deprecated. Use `nn.functional.interpolate` instead.\n",
      "  out = self.post0(F.upsample(self.h2(out) + self.v2(p2), size=(31, 31)))\n",
      "/kaggle/working/SiamMask/experiments/siammask_sharp/custom.py:151: UserWarning: `nn.functional.upsample` is deprecated. Use `nn.functional.interpolate` instead.\n",
      "  out = self.post1(F.upsample(self.h1(out) + self.v1(p1), size=(61, 61)))\n",
      "/kaggle/working/SiamMask/experiments/siammask_sharp/custom.py:152: UserWarning: `nn.functional.upsample` is deprecated. Use `nn.functional.interpolate` instead.\n",
      "  out = self.post2(F.upsample(self.h0(out) + self.v0(p0), size=(127, 127)))\n"
     ]
    },
    {
     "name": "stdout",
     "output_type": "stream",
     "text": [
      "Tracking complete for /kaggle/input/sportsmot/sportsmot_publish/dataset/val/v_i2_L4qquVg0_c007. Output saved as tracking_output_v_i2_L4qquVg0_c007.mp4\n",
      "Success Rate (IoU Overlap): 1.00\n",
      "Precision (Center Distance < 20px): 1.00\n",
      "Mean Success Rate (IoU Overlap): 0.44\n",
      "Mean Precision (Center Distance < 20px): 0.46\n",
      "All tracking processes completed.\n"
     ]
    }
   ],
   "source": [
    "import random\n",
    "\n",
    "val_folder = \"/kaggle/input/sportsmot/sportsmot_publish/dataset/val/\"\n",
    "\n",
    "video_list_file = \"/kaggle/input/sportsmot/sportsmot_publish/splits_txt/football.txt\"\n",
    "\n",
    "with open(video_list_file, \"r\") as f:\n",
    "    video_names = [line.strip() for line in f.readlines() if line.strip()]\n",
    "\n",
    "\n",
    "selected_folders = [os.path.join(val_folder, v) for v in video_names if os.path.isdir(os.path.join(val_folder, v))]\n",
    "\n",
    "num_test = 10\n",
    "\n",
    "random.seed(42)\n",
    "selected_folders = random.sample(selected_folders, num_test)\n",
    "\n",
    "device = 'cuda'\n",
    "\n",
    "metrics = np.zeros(2)\n",
    "\n",
    "for video_folder in selected_folders:\n",
    "    print(f\"Processing video: {video_folder}\")\n",
    "\n",
    "    frames_folder = os.path.join(video_folder, \"img1\")\n",
    "    gt_file = os.path.join(video_folder, \"gt\", \"gt.txt\")\n",
    "\n",
    "    gt_data = pd.read_csv(gt_file, header=None)\n",
    "    gt_data.columns = [\"frame\", \"object_id\", \"x\", \"y\", \"w\", \"h\", \"conf\", \"class\", \"visibility\"]\n",
    "\n",
    "    first_frame_boxes = gt_data[gt_data[\"frame\"] == 1]\n",
    "\n",
    "    selected_box = first_frame_boxes.sample(n=1).iloc[0]\n",
    "    obj_id = int(selected_box[\"object_id\"])\n",
    "    x, y, w, h = map(int, (selected_box[\"x\"], selected_box[\"y\"], selected_box[\"w\"], selected_box[\"h\"]))\n",
    "\n",
    "    frame_files = sorted([os.path.join(frames_folder, f) for f in os.listdir(frames_folder) if f.endswith(\".jpg\")])\n",
    "\n",
    "    print(f\"Total frames found: {len(frame_files)}\")\n",
    "\n",
    "    first_frame = cv2.imread(frame_files[0])\n",
    "    frame_size = first_frame.shape[1::-1]\n",
    "\n",
    "    output_video_path = f\"tracking_output_{os.path.basename(video_folder)}.mp4\"\n",
    "    video_writer = cv2.VideoWriter(output_video_path, cv2.VideoWriter_fourcc(*'mp4v'), 25, frame_size)\n",
    "\n",
    "    target_pos = np.array([x + w / 2, y + h / 2])\n",
    "    target_sz = np.array([w, h])\n",
    "    state = siamese_init(first_frame, target_pos, target_sz, siammask, cfg['hp'], device=device)\n",
    "\n",
    "    tracking_results = []\n",
    "\n",
    "    for i, frame_path in enumerate(frame_files):\n",
    "        frame = cv2.imread(frame_path)\n",
    "\n",
    "        state = siamese_track(state, frame, mask_enable=True, refine_enable=True, device=device)\n",
    "\n",
    "        w, h = state['target_sz']\n",
    "        x, y = state['target_pos']\n",
    "        x -= w / 2\n",
    "        y -= h / 2\n",
    "        tracking_results.append([x, y, w, h])\n",
    "\n",
    "        x, y, w, h = map(int, (x, y, w, h))\n",
    "        cv2.rectangle(frame, (x, y), (x + w, y + h), (0, 255, 0), 2)\n",
    "\n",
    "        video_writer.write(frame)\n",
    "\n",
    "    video_writer.release()\n",
    "    print(f\"Tracking complete for {video_folder}. Output saved as {output_video_path}\")\n",
    "\n",
    "    gt_boxes = load_mot_gt(gt_file, obj_id)\n",
    "\n",
    "    metrics += evaluate_sot(tracking_results, gt_boxes)\n",
    "\n",
    "\n",
    "metrics /= num_test\n",
    "\n",
    "print(f\"Mean Success Rate (IoU Overlap): {metrics[0]:.2f}\")\n",
    "print(f\"Mean Precision (Center Distance < 20px): {metrics[1]:.2f}\")\n",
    "\n",
    "print(\"All tracking processes completed.\")"
   ]
  },
  {
   "cell_type": "code",
   "execution_count": null,
   "metadata": {},
   "outputs": [],
   "source": []
  }
 ],
 "metadata": {
  "kaggle": {
   "accelerator": "nvidiaTeslaT4",
   "dataSources": [
    {
     "datasetId": 4045126,
     "sourceId": 7032396,
     "sourceType": "datasetVersion"
    }
   ],
   "dockerImageVersionId": 30839,
   "isGpuEnabled": true,
   "isInternetEnabled": true,
   "language": "python",
   "sourceType": "notebook"
  },
  "kernelspec": {
   "display_name": "Python 3 (ipykernel)",
   "language": "python",
   "name": "python3"
  },
  "language_info": {
   "codemirror_mode": {
    "name": "ipython",
    "version": 3
   },
   "file_extension": ".py",
   "mimetype": "text/x-python",
   "name": "python",
   "nbconvert_exporter": "python",
   "pygments_lexer": "ipython3",
   "version": "3.11.2"
  }
 },
 "nbformat": 4,
 "nbformat_minor": 4
}
